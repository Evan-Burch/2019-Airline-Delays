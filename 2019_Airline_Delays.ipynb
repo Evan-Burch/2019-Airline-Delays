{
  "cells": [
    {
      "cell_type": "markdown",
      "metadata": {
        "id": "I5WThagKQ_Kw"
      },
      "source": [
        "\n",
        "### CSC 4260/5260: Advanced Data Science & Applications\n",
        "### Spring 2024 Project: Team 4\n",
        "### Project Name: 2019 AiportDelays w/Weather and Aiport Details\n",
        "### By: Anurag Dwivedi, Evan Burch, Jonathan Hooper"
      ]
    },
    {
      "cell_type": "markdown",
      "metadata": {
        "id": "54FqtT6e_CaO"
      },
      "source": [
        "Problem Statement: The primary objective of this analysis is to develop a binary classification model that predicts whether a flight will experience a departure delay. This predictive model aims to identify potential delays based on a range of flight and airport-specific variables. The significance of this model lies in its potential to aid airlines, airport authorities, and passengers in anticipating delays, thereby enhancing the efficiency of flight operations and improving the overall travel experience.  "
      ]
    },
    {
      "cell_type": "markdown",
      "metadata": {
        "id": "B91lxU9iQVw6"
      },
      "source": [
        "## Importing any necessary libraries!"
      ]
    },
    {
      "cell_type": "code",
      "execution_count": null,
      "metadata": {
        "id": "29coI51Z5LHF",
        "colab": {
          "base_uri": "https://localhost:8080/"
        },
        "outputId": "1c24656e-67a1-4dff-c953-cb85003f30b4"
      },
      "outputs": [
        {
          "output_type": "stream",
          "name": "stdout",
          "text": [
            "Collecting ydata-profiling\n",
            "  Downloading ydata_profiling-4.7.0-py2.py3-none-any.whl (357 kB)\n",
            "\u001b[?25l     \u001b[90m━━━━━━━━━━━━━━━━━━━━━━━━━━━━━━━━━━━━━━━━\u001b[0m \u001b[32m0.0/357.9 kB\u001b[0m \u001b[31m?\u001b[0m eta \u001b[36m-:--:--\u001b[0m\r\u001b[2K     \u001b[91m━━━━━━━━━━━━━━━━\u001b[0m\u001b[90m╺\u001b[0m\u001b[90m━━━━━━━━━━━━━━━━━━━━━━━\u001b[0m \u001b[32m143.4/357.9 kB\u001b[0m \u001b[31m4.0 MB/s\u001b[0m eta \u001b[36m0:00:01\u001b[0m\r\u001b[2K     \u001b[90m━━━━━━━━━━━━━━━━━━━━━━━━━━━━━━━━━━━━━━━━\u001b[0m \u001b[32m357.9/357.9 kB\u001b[0m \u001b[31m5.5 MB/s\u001b[0m eta \u001b[36m0:00:00\u001b[0m\n",
            "\u001b[?25hRequirement already satisfied: scipy<1.12,>=1.4.1 in /usr/local/lib/python3.10/dist-packages (from ydata-profiling) (1.11.4)\n",
            "Requirement already satisfied: pandas!=1.4.0,<3,>1.1 in /usr/local/lib/python3.10/dist-packages (from ydata-profiling) (2.0.3)\n",
            "Requirement already satisfied: matplotlib<3.9,>=3.2 in /usr/local/lib/python3.10/dist-packages (from ydata-profiling) (3.7.1)\n",
            "Requirement already satisfied: pydantic>=2 in /usr/local/lib/python3.10/dist-packages (from ydata-profiling) (2.7.0)\n",
            "Requirement already satisfied: PyYAML<6.1,>=5.0.0 in /usr/local/lib/python3.10/dist-packages (from ydata-profiling) (6.0.1)\n",
            "Requirement already satisfied: jinja2<3.2,>=2.11.1 in /usr/local/lib/python3.10/dist-packages (from ydata-profiling) (3.1.3)\n",
            "Collecting visions[type_image_path]<0.7.7,>=0.7.5 (from ydata-profiling)\n",
            "  Downloading visions-0.7.6-py3-none-any.whl (104 kB)\n",
            "\u001b[2K     \u001b[90m━━━━━━━━━━━━━━━━━━━━━━━━━━━━━━━━━━━━━━━━\u001b[0m \u001b[32m104.8/104.8 kB\u001b[0m \u001b[31m6.1 MB/s\u001b[0m eta \u001b[36m0:00:00\u001b[0m\n",
            "\u001b[?25hRequirement already satisfied: numpy<2,>=1.16.0 in /usr/local/lib/python3.10/dist-packages (from ydata-profiling) (1.25.2)\n",
            "Collecting htmlmin==0.1.12 (from ydata-profiling)\n",
            "  Downloading htmlmin-0.1.12.tar.gz (19 kB)\n",
            "  Preparing metadata (setup.py) ... \u001b[?25l\u001b[?25hdone\n",
            "Collecting phik<0.13,>=0.11.1 (from ydata-profiling)\n",
            "  Downloading phik-0.12.4-cp310-cp310-manylinux_2_17_x86_64.manylinux2014_x86_64.whl (686 kB)\n",
            "\u001b[2K     \u001b[90m━━━━━━━━━━━━━━━━━━━━━━━━━━━━━━━━━━━━━━━━\u001b[0m \u001b[32m686.1/686.1 kB\u001b[0m \u001b[31m11.7 MB/s\u001b[0m eta \u001b[36m0:00:00\u001b[0m\n",
            "\u001b[?25hRequirement already satisfied: requests<3,>=2.24.0 in /usr/local/lib/python3.10/dist-packages (from ydata-profiling) (2.31.0)\n",
            "Requirement already satisfied: tqdm<5,>=4.48.2 in /usr/local/lib/python3.10/dist-packages (from ydata-profiling) (4.66.2)\n",
            "Collecting seaborn<0.13,>=0.10.1 (from ydata-profiling)\n",
            "  Downloading seaborn-0.12.2-py3-none-any.whl (293 kB)\n",
            "\u001b[2K     \u001b[90m━━━━━━━━━━━━━━━━━━━━━━━━━━━━━━━━━━━━━━━━\u001b[0m \u001b[32m293.3/293.3 kB\u001b[0m \u001b[31m12.5 MB/s\u001b[0m eta \u001b[36m0:00:00\u001b[0m\n",
            "\u001b[?25hCollecting multimethod<2,>=1.4 (from ydata-profiling)\n",
            "  Downloading multimethod-1.11.2-py3-none-any.whl (10 kB)\n",
            "Requirement already satisfied: statsmodels<1,>=0.13.2 in /usr/local/lib/python3.10/dist-packages (from ydata-profiling) (0.14.2)\n",
            "Collecting typeguard<5,>=4.1.2 (from ydata-profiling)\n",
            "  Downloading typeguard-4.2.1-py3-none-any.whl (34 kB)\n",
            "Collecting imagehash==4.3.1 (from ydata-profiling)\n",
            "  Downloading ImageHash-4.3.1-py2.py3-none-any.whl (296 kB)\n",
            "\u001b[2K     \u001b[90m━━━━━━━━━━━━━━━━━━━━━━━━━━━━━━━━━━━━━━━━\u001b[0m \u001b[32m296.5/296.5 kB\u001b[0m \u001b[31m9.9 MB/s\u001b[0m eta \u001b[36m0:00:00\u001b[0m\n",
            "\u001b[?25hRequirement already satisfied: wordcloud>=1.9.1 in /usr/local/lib/python3.10/dist-packages (from ydata-profiling) (1.9.3)\n",
            "Collecting dacite>=1.8 (from ydata-profiling)\n",
            "  Downloading dacite-1.8.1-py3-none-any.whl (14 kB)\n",
            "Requirement already satisfied: numba<1,>=0.56.0 in /usr/local/lib/python3.10/dist-packages (from ydata-profiling) (0.58.1)\n",
            "Requirement already satisfied: PyWavelets in /usr/local/lib/python3.10/dist-packages (from imagehash==4.3.1->ydata-profiling) (1.6.0)\n",
            "Requirement already satisfied: pillow in /usr/local/lib/python3.10/dist-packages (from imagehash==4.3.1->ydata-profiling) (9.4.0)\n",
            "Requirement already satisfied: MarkupSafe>=2.0 in /usr/local/lib/python3.10/dist-packages (from jinja2<3.2,>=2.11.1->ydata-profiling) (2.1.5)\n",
            "Requirement already satisfied: contourpy>=1.0.1 in /usr/local/lib/python3.10/dist-packages (from matplotlib<3.9,>=3.2->ydata-profiling) (1.2.1)\n",
            "Requirement already satisfied: cycler>=0.10 in /usr/local/lib/python3.10/dist-packages (from matplotlib<3.9,>=3.2->ydata-profiling) (0.12.1)\n",
            "Requirement already satisfied: fonttools>=4.22.0 in /usr/local/lib/python3.10/dist-packages (from matplotlib<3.9,>=3.2->ydata-profiling) (4.51.0)\n",
            "Requirement already satisfied: kiwisolver>=1.0.1 in /usr/local/lib/python3.10/dist-packages (from matplotlib<3.9,>=3.2->ydata-profiling) (1.4.5)\n",
            "Requirement already satisfied: packaging>=20.0 in /usr/local/lib/python3.10/dist-packages (from matplotlib<3.9,>=3.2->ydata-profiling) (24.0)\n",
            "Requirement already satisfied: pyparsing>=2.3.1 in /usr/local/lib/python3.10/dist-packages (from matplotlib<3.9,>=3.2->ydata-profiling) (3.1.2)\n",
            "Requirement already satisfied: python-dateutil>=2.7 in /usr/local/lib/python3.10/dist-packages (from matplotlib<3.9,>=3.2->ydata-profiling) (2.8.2)\n",
            "Requirement already satisfied: llvmlite<0.42,>=0.41.0dev0 in /usr/local/lib/python3.10/dist-packages (from numba<1,>=0.56.0->ydata-profiling) (0.41.1)\n",
            "Requirement already satisfied: pytz>=2020.1 in /usr/local/lib/python3.10/dist-packages (from pandas!=1.4.0,<3,>1.1->ydata-profiling) (2023.4)\n",
            "Requirement already satisfied: tzdata>=2022.1 in /usr/local/lib/python3.10/dist-packages (from pandas!=1.4.0,<3,>1.1->ydata-profiling) (2024.1)\n",
            "Requirement already satisfied: joblib>=0.14.1 in /usr/local/lib/python3.10/dist-packages (from phik<0.13,>=0.11.1->ydata-profiling) (1.4.0)\n",
            "Requirement already satisfied: annotated-types>=0.4.0 in /usr/local/lib/python3.10/dist-packages (from pydantic>=2->ydata-profiling) (0.6.0)\n",
            "Requirement already satisfied: pydantic-core==2.18.1 in /usr/local/lib/python3.10/dist-packages (from pydantic>=2->ydata-profiling) (2.18.1)\n",
            "Requirement already satisfied: typing-extensions>=4.6.1 in /usr/local/lib/python3.10/dist-packages (from pydantic>=2->ydata-profiling) (4.11.0)\n",
            "Requirement already satisfied: charset-normalizer<4,>=2 in /usr/local/lib/python3.10/dist-packages (from requests<3,>=2.24.0->ydata-profiling) (3.3.2)\n",
            "Requirement already satisfied: idna<4,>=2.5 in /usr/local/lib/python3.10/dist-packages (from requests<3,>=2.24.0->ydata-profiling) (3.7)\n",
            "Requirement already satisfied: urllib3<3,>=1.21.1 in /usr/local/lib/python3.10/dist-packages (from requests<3,>=2.24.0->ydata-profiling) (2.0.7)\n",
            "Requirement already satisfied: certifi>=2017.4.17 in /usr/local/lib/python3.10/dist-packages (from requests<3,>=2.24.0->ydata-profiling) (2024.2.2)\n",
            "Requirement already satisfied: patsy>=0.5.6 in /usr/local/lib/python3.10/dist-packages (from statsmodels<1,>=0.13.2->ydata-profiling) (0.5.6)\n",
            "Requirement already satisfied: attrs>=19.3.0 in /usr/local/lib/python3.10/dist-packages (from visions[type_image_path]<0.7.7,>=0.7.5->ydata-profiling) (23.2.0)\n",
            "Requirement already satisfied: networkx>=2.4 in /usr/local/lib/python3.10/dist-packages (from visions[type_image_path]<0.7.7,>=0.7.5->ydata-profiling) (3.3)\n",
            "Requirement already satisfied: six in /usr/local/lib/python3.10/dist-packages (from patsy>=0.5.6->statsmodels<1,>=0.13.2->ydata-profiling) (1.16.0)\n",
            "Building wheels for collected packages: htmlmin\n",
            "  Building wheel for htmlmin (setup.py) ... \u001b[?25l\u001b[?25hdone\n",
            "  Created wheel for htmlmin: filename=htmlmin-0.1.12-py3-none-any.whl size=27080 sha256=ddfceaa5fce8b962565945c697e9f07e0f343fb0ca191bbba76fc8b8681a7896\n",
            "  Stored in directory: /root/.cache/pip/wheels/dd/91/29/a79cecb328d01739e64017b6fb9a1ab9d8cb1853098ec5966d\n",
            "Successfully built htmlmin\n",
            "Installing collected packages: htmlmin, typeguard, multimethod, dacite, imagehash, visions, seaborn, phik, ydata-profiling\n",
            "  Attempting uninstall: seaborn\n",
            "    Found existing installation: seaborn 0.13.1\n",
            "    Uninstalling seaborn-0.13.1:\n",
            "      Successfully uninstalled seaborn-0.13.1\n",
            "Successfully installed dacite-1.8.1 htmlmin-0.1.12 imagehash-4.3.1 multimethod-1.11.2 phik-0.12.4 seaborn-0.12.2 typeguard-4.2.1 visions-0.7.6 ydata-profiling-4.7.0\n",
            "Requirement already satisfied: networkx in /usr/local/lib/python3.10/dist-packages (3.3)\n",
            "Requirement already satisfied: pandas in /usr/local/lib/python3.10/dist-packages (2.0.3)\n",
            "Requirement already satisfied: scikit-learn in /usr/local/lib/python3.10/dist-packages (1.2.2)\n",
            "Requirement already satisfied: imbalanced-learn in /usr/local/lib/python3.10/dist-packages (0.10.1)\n",
            "Requirement already satisfied: python-dateutil>=2.8.2 in /usr/local/lib/python3.10/dist-packages (from pandas) (2.8.2)\n",
            "Requirement already satisfied: pytz>=2020.1 in /usr/local/lib/python3.10/dist-packages (from pandas) (2023.4)\n",
            "Requirement already satisfied: tzdata>=2022.1 in /usr/local/lib/python3.10/dist-packages (from pandas) (2024.1)\n",
            "Requirement already satisfied: numpy>=1.21.0 in /usr/local/lib/python3.10/dist-packages (from pandas) (1.25.2)\n",
            "Requirement already satisfied: scipy>=1.3.2 in /usr/local/lib/python3.10/dist-packages (from scikit-learn) (1.11.4)\n",
            "Requirement already satisfied: joblib>=1.1.1 in /usr/local/lib/python3.10/dist-packages (from scikit-learn) (1.4.0)\n",
            "Requirement already satisfied: threadpoolctl>=2.0.0 in /usr/local/lib/python3.10/dist-packages (from scikit-learn) (3.4.0)\n",
            "Requirement already satisfied: six>=1.5 in /usr/local/lib/python3.10/dist-packages (from python-dateutil>=2.8.2->pandas) (1.16.0)\n"
          ]
        }
      ],
      "source": [
        "!pip install ydata-profiling\n",
        "!pip install networkx\n",
        "!pip install pandas scikit-learn imbalanced-learn"
      ]
    },
    {
      "cell_type": "code",
      "execution_count": null,
      "metadata": {
        "id": "i2i9hmFUG9U5"
      },
      "outputs": [],
      "source": [
        "import os\n",
        "import numpy as np\n",
        "import pandas as pd\n",
        "import seaborn as sns\n",
        "import matplotlib.pyplot as plt\n",
        "from sklearn.linear_model import LogisticRegression\n",
        "from sklearn.metrics import classification_report, roc_auc_score,precision_score,recall_score,accuracy_score\n",
        "from ydata_profiling import ProfileReport\n",
        "from sklearn.model_selection import train_test_split\n",
        "import networkx as nx\n",
        "from scipy import stats\n",
        "from sklearn.preprocessing import StandardScaler\n",
        "from sklearn.metrics import f1_score\n",
        "from imblearn.over_sampling import SMOTE\n",
        "from imblearn.under_sampling import RandomUnderSampler\n",
        "from imblearn.combine import SMOTEENN"
      ]
    },
    {
      "cell_type": "markdown",
      "metadata": {
        "id": "KyPNEbJLXNpB"
      },
      "source": [
        "## Collecting the data from Kaggle"
      ]
    },
    {
      "cell_type": "markdown",
      "metadata": {
        "id": "58fD-CHRPnBY"
      },
      "source": [
        "We load the full dataset here"
      ]
    },
    {
      "cell_type": "code",
      "execution_count": null,
      "metadata": {
        "id": "sZ-iHyr1XLQT"
      },
      "outputs": [],
      "source": [
        "# Read the CSV file from the unzipped directory\n",
        "data = pd.read_csv('full_data_flightdelay.csv')\n",
        "#train_data = pd.read_csv('train.csv')\n",
        "full_data = data[[\"MONTH\",\"DAY_OF_WEEK\",\"DEP_TIME_BLK\",\"DISTANCE_GROUP\",\"CONCURRENT_FLIGHTS\",\"NUMBER_OF_SEATS\",\"CARRIER_NAME\",\"AVG_MONTHLY_PASS_AIRLINE\",\"FLT_ATTENDANTS_PER_PASS\",\"DEPARTING_AIRPORT\",\"PRCP\",\"SNOW\",\"SNWD\",\"TMAX\",\"AWND\",\"DEP_DEL15\",\"AIRPORT_FLIGHTS_MONTH\",\"AIRLINE_FLIGHTS_MONTH\",\"GROUND_SERV_PER_PASS\",\"PLANE_AGE\"]]"
      ]
    },
    {
      "cell_type": "markdown",
      "metadata": {
        "id": "IGLw4luvEiL7"
      },
      "source": [
        "##Exploratory Data Analysis"
      ]
    },
    {
      "cell_type": "markdown",
      "metadata": {
        "id": "DrTrSQd2UDPo"
      },
      "source": [
        "Here we generate an initial summary of the full dataset and use it to create boxplots to visuzlize the data distribution."
      ]
    },
    {
      "cell_type": "code",
      "execution_count": null,
      "metadata": {
        "id": "rxOqn7lSFNP1",
        "colab": {
          "base_uri": "https://localhost:8080/"
        },
        "outputId": "51051d4b-d237-49df-fcd9-a2387ef6cf32"
      },
      "outputs": [
        {
          "output_type": "stream",
          "name": "stdout",
          "text": [
            "              MONTH   DAY_OF_WEEK  DISTANCE_GROUP  CONCURRENT_FLIGHTS  \\\n",
            "count  6.489062e+06  6.489062e+06    6.489062e+06        6.489062e+06   \n",
            "mean   6.607062e+00  3.935598e+00    3.821102e+00        2.783675e+01   \n",
            "std    3.396853e+00  1.995200e+00    2.382233e+00        2.151060e+01   \n",
            "min    1.000000e+00  1.000000e+00    1.000000e+00        1.000000e+00   \n",
            "25%    4.000000e+00  2.000000e+00    2.000000e+00        1.100000e+01   \n",
            "50%    7.000000e+00  4.000000e+00    3.000000e+00        2.300000e+01   \n",
            "75%    1.000000e+01  6.000000e+00    5.000000e+00        3.900000e+01   \n",
            "max    1.200000e+01  7.000000e+00    1.100000e+01        1.090000e+02   \n",
            "\n",
            "       NUMBER_OF_SEATS  AVG_MONTHLY_PASS_AIRLINE  FLT_ATTENDANTS_PER_PASS  \\\n",
            "count     6.489062e+06              6.489062e+06             6.489062e+06   \n",
            "mean      1.337397e+02              7.814970e+06             9.753707e-05   \n",
            "std       4.645213e+01              5.046882e+06             8.644459e-05   \n",
            "min       4.400000e+01              4.737940e+05             0.000000e+00   \n",
            "25%       9.000000e+01              2.688839e+06             3.419267e-05   \n",
            "50%       1.430000e+02              8.501631e+06             6.178236e-05   \n",
            "75%       1.720000e+02              1.246018e+07             1.441659e-04   \n",
            "max       3.370000e+02              1.338300e+07             3.484077e-04   \n",
            "\n",
            "               PRCP          SNOW          SNWD          TMAX          AWND  \\\n",
            "count  6.489062e+06  6.489062e+06  6.489062e+06  6.489062e+06  6.489062e+06   \n",
            "mean   1.037063e-01  3.159310e-02  9.152397e-02  7.146846e+01  8.341329e+00   \n",
            "std    3.432134e-01  3.170163e-01  7.281285e-01  1.835333e+01  3.607604e+00   \n",
            "min    0.000000e+00  0.000000e+00  0.000000e+00 -1.000000e+01  0.000000e+00   \n",
            "25%    0.000000e+00  0.000000e+00  0.000000e+00  5.900000e+01  5.820000e+00   \n",
            "50%    0.000000e+00  0.000000e+00  0.000000e+00  7.400000e+01  7.830000e+00   \n",
            "75%    2.000000e-02  0.000000e+00  0.000000e+00  8.600000e+01  1.029000e+01   \n",
            "max    1.163000e+01  1.720000e+01  2.520000e+01  1.150000e+02  3.378000e+01   \n",
            "\n",
            "          DEP_DEL15  AIRPORT_FLIGHTS_MONTH  AIRLINE_FLIGHTS_MONTH  \\\n",
            "count  6.489062e+06           6.489062e+06           6.489062e+06   \n",
            "mean   1.891441e-01           1.268458e+04           6.296058e+04   \n",
            "std    3.916231e-01           8.839796e+03           3.438223e+04   \n",
            "min    0.000000e+00           1.100000e+03           5.582000e+03   \n",
            "25%    0.000000e+00           5.345000e+03           2.503400e+04   \n",
            "50%    0.000000e+00           1.156200e+04           7.087800e+04   \n",
            "75%    0.000000e+00           1.761500e+04           8.631200e+04   \n",
            "max    1.000000e+00           3.525600e+04           1.177280e+05   \n",
            "\n",
            "       GROUND_SERV_PER_PASS     PLANE_AGE  \n",
            "count          6.489062e+06  6.489062e+06  \n",
            "mean           1.355612e-04  1.153211e+01  \n",
            "std            4.649970e-05  6.935706e+00  \n",
            "min            7.134695e-06  0.000000e+00  \n",
            "25%            9.889412e-05  5.000000e+00  \n",
            "50%            1.246511e-04  1.200000e+01  \n",
            "75%            1.772872e-04  1.700000e+01  \n",
            "max            2.289855e-04  3.200000e+01  \n"
          ]
        }
      ],
      "source": [
        "summary = full_data.describe()\n",
        "print(summary)"
      ]
    },
    {
      "cell_type": "markdown",
      "metadata": {
        "id": "Ki1r57trTGp-"
      },
      "source": [
        "Next, we use the ProfileReport function to create a comprehensive html report. This report reveals many of the same facts that will be discovered below, and is a powerful EDA tool. The resulting report.html can be viewed in the GitHub repository."
      ]
    },
    {
      "cell_type": "code",
      "execution_count": null,
      "metadata": {
        "id": "QQvt5COWKFWZ"
      },
      "outputs": [],
      "source": [
        "#commented out so it does not run\n",
        "#report = ProfileReport(full_data, title = \"report\", explorative=True)\n",
        "#report.to_file(\"report.html\")"
      ]
    },
    {
      "cell_type": "markdown",
      "metadata": {
        "id": "CYnkQTL_P3IV"
      },
      "source": [
        "Here we use the head function to take a peek at the first 5 rows. This allows us to ses what the attributes look like"
      ]
    },
    {
      "cell_type": "code",
      "execution_count": null,
      "metadata": {
        "id": "SPy3uzHQ4Qw8",
        "colab": {
          "base_uri": "https://localhost:8080/",
          "height": 313
        },
        "outputId": "1ccee437-10bb-42d2-e5ae-7889a8845fda"
      },
      "outputs": [
        {
          "output_type": "execute_result",
          "data": {
            "text/plain": [
              "   MONTH  DAY_OF_WEEK DEP_TIME_BLK  DISTANCE_GROUP  CONCURRENT_FLIGHTS  \\\n",
              "0      1            7    0800-0859               2                  25   \n",
              "1      1            7    0700-0759               7                  29   \n",
              "2      1            7    0600-0659               7                  27   \n",
              "3      1            7    0600-0659               9                  27   \n",
              "4      1            7    0001-0559               7                  10   \n",
              "\n",
              "   NUMBER_OF_SEATS            CARRIER_NAME  AVG_MONTHLY_PASS_AIRLINE  \\\n",
              "0              143  Southwest Airlines Co.                  13382999   \n",
              "1              191    Delta Air Lines Inc.                  12460183   \n",
              "2              199    Delta Air Lines Inc.                  12460183   \n",
              "3              180    Delta Air Lines Inc.                  12460183   \n",
              "4              182        Spirit Air Lines                   2688839   \n",
              "\n",
              "   FLT_ATTENDANTS_PER_PASS       DEPARTING_AIRPORT  PRCP  SNOW  SNWD  TMAX  \\\n",
              "0                 0.000062  McCarran International   0.0   0.0   0.0  65.0   \n",
              "1                 0.000144  McCarran International   0.0   0.0   0.0  65.0   \n",
              "2                 0.000144  McCarran International   0.0   0.0   0.0  65.0   \n",
              "3                 0.000144  McCarran International   0.0   0.0   0.0  65.0   \n",
              "4                 0.000009  McCarran International   0.0   0.0   0.0  65.0   \n",
              "\n",
              "   AWND  DEP_DEL15  AIRPORT_FLIGHTS_MONTH  AIRLINE_FLIGHTS_MONTH  \\\n",
              "0  2.91          0                  13056                 107363   \n",
              "1  2.91          0                  13056                  73508   \n",
              "2  2.91          0                  13056                  73508   \n",
              "3  2.91          0                  13056                  73508   \n",
              "4  2.91          0                  13056                  15023   \n",
              "\n",
              "   GROUND_SERV_PER_PASS  PLANE_AGE  \n",
              "0              0.000099          8  \n",
              "1              0.000149          3  \n",
              "2              0.000149         18  \n",
              "3              0.000149          2  \n",
              "4              0.000125          1  "
            ],
            "text/html": [
              "\n",
              "  <div id=\"df-3decaa9b-c9f1-4f76-9ffc-f91b561ed87a\" class=\"colab-df-container\">\n",
              "    <div>\n",
              "<style scoped>\n",
              "    .dataframe tbody tr th:only-of-type {\n",
              "        vertical-align: middle;\n",
              "    }\n",
              "\n",
              "    .dataframe tbody tr th {\n",
              "        vertical-align: top;\n",
              "    }\n",
              "\n",
              "    .dataframe thead th {\n",
              "        text-align: right;\n",
              "    }\n",
              "</style>\n",
              "<table border=\"1\" class=\"dataframe\">\n",
              "  <thead>\n",
              "    <tr style=\"text-align: right;\">\n",
              "      <th></th>\n",
              "      <th>MONTH</th>\n",
              "      <th>DAY_OF_WEEK</th>\n",
              "      <th>DEP_TIME_BLK</th>\n",
              "      <th>DISTANCE_GROUP</th>\n",
              "      <th>CONCURRENT_FLIGHTS</th>\n",
              "      <th>NUMBER_OF_SEATS</th>\n",
              "      <th>CARRIER_NAME</th>\n",
              "      <th>AVG_MONTHLY_PASS_AIRLINE</th>\n",
              "      <th>FLT_ATTENDANTS_PER_PASS</th>\n",
              "      <th>DEPARTING_AIRPORT</th>\n",
              "      <th>PRCP</th>\n",
              "      <th>SNOW</th>\n",
              "      <th>SNWD</th>\n",
              "      <th>TMAX</th>\n",
              "      <th>AWND</th>\n",
              "      <th>DEP_DEL15</th>\n",
              "      <th>AIRPORT_FLIGHTS_MONTH</th>\n",
              "      <th>AIRLINE_FLIGHTS_MONTH</th>\n",
              "      <th>GROUND_SERV_PER_PASS</th>\n",
              "      <th>PLANE_AGE</th>\n",
              "    </tr>\n",
              "  </thead>\n",
              "  <tbody>\n",
              "    <tr>\n",
              "      <th>0</th>\n",
              "      <td>1</td>\n",
              "      <td>7</td>\n",
              "      <td>0800-0859</td>\n",
              "      <td>2</td>\n",
              "      <td>25</td>\n",
              "      <td>143</td>\n",
              "      <td>Southwest Airlines Co.</td>\n",
              "      <td>13382999</td>\n",
              "      <td>0.000062</td>\n",
              "      <td>McCarran International</td>\n",
              "      <td>0.0</td>\n",
              "      <td>0.0</td>\n",
              "      <td>0.0</td>\n",
              "      <td>65.0</td>\n",
              "      <td>2.91</td>\n",
              "      <td>0</td>\n",
              "      <td>13056</td>\n",
              "      <td>107363</td>\n",
              "      <td>0.000099</td>\n",
              "      <td>8</td>\n",
              "    </tr>\n",
              "    <tr>\n",
              "      <th>1</th>\n",
              "      <td>1</td>\n",
              "      <td>7</td>\n",
              "      <td>0700-0759</td>\n",
              "      <td>7</td>\n",
              "      <td>29</td>\n",
              "      <td>191</td>\n",
              "      <td>Delta Air Lines Inc.</td>\n",
              "      <td>12460183</td>\n",
              "      <td>0.000144</td>\n",
              "      <td>McCarran International</td>\n",
              "      <td>0.0</td>\n",
              "      <td>0.0</td>\n",
              "      <td>0.0</td>\n",
              "      <td>65.0</td>\n",
              "      <td>2.91</td>\n",
              "      <td>0</td>\n",
              "      <td>13056</td>\n",
              "      <td>73508</td>\n",
              "      <td>0.000149</td>\n",
              "      <td>3</td>\n",
              "    </tr>\n",
              "    <tr>\n",
              "      <th>2</th>\n",
              "      <td>1</td>\n",
              "      <td>7</td>\n",
              "      <td>0600-0659</td>\n",
              "      <td>7</td>\n",
              "      <td>27</td>\n",
              "      <td>199</td>\n",
              "      <td>Delta Air Lines Inc.</td>\n",
              "      <td>12460183</td>\n",
              "      <td>0.000144</td>\n",
              "      <td>McCarran International</td>\n",
              "      <td>0.0</td>\n",
              "      <td>0.0</td>\n",
              "      <td>0.0</td>\n",
              "      <td>65.0</td>\n",
              "      <td>2.91</td>\n",
              "      <td>0</td>\n",
              "      <td>13056</td>\n",
              "      <td>73508</td>\n",
              "      <td>0.000149</td>\n",
              "      <td>18</td>\n",
              "    </tr>\n",
              "    <tr>\n",
              "      <th>3</th>\n",
              "      <td>1</td>\n",
              "      <td>7</td>\n",
              "      <td>0600-0659</td>\n",
              "      <td>9</td>\n",
              "      <td>27</td>\n",
              "      <td>180</td>\n",
              "      <td>Delta Air Lines Inc.</td>\n",
              "      <td>12460183</td>\n",
              "      <td>0.000144</td>\n",
              "      <td>McCarran International</td>\n",
              "      <td>0.0</td>\n",
              "      <td>0.0</td>\n",
              "      <td>0.0</td>\n",
              "      <td>65.0</td>\n",
              "      <td>2.91</td>\n",
              "      <td>0</td>\n",
              "      <td>13056</td>\n",
              "      <td>73508</td>\n",
              "      <td>0.000149</td>\n",
              "      <td>2</td>\n",
              "    </tr>\n",
              "    <tr>\n",
              "      <th>4</th>\n",
              "      <td>1</td>\n",
              "      <td>7</td>\n",
              "      <td>0001-0559</td>\n",
              "      <td>7</td>\n",
              "      <td>10</td>\n",
              "      <td>182</td>\n",
              "      <td>Spirit Air Lines</td>\n",
              "      <td>2688839</td>\n",
              "      <td>0.000009</td>\n",
              "      <td>McCarran International</td>\n",
              "      <td>0.0</td>\n",
              "      <td>0.0</td>\n",
              "      <td>0.0</td>\n",
              "      <td>65.0</td>\n",
              "      <td>2.91</td>\n",
              "      <td>0</td>\n",
              "      <td>13056</td>\n",
              "      <td>15023</td>\n",
              "      <td>0.000125</td>\n",
              "      <td>1</td>\n",
              "    </tr>\n",
              "  </tbody>\n",
              "</table>\n",
              "</div>\n",
              "    <div class=\"colab-df-buttons\">\n",
              "\n",
              "  <div class=\"colab-df-container\">\n",
              "    <button class=\"colab-df-convert\" onclick=\"convertToInteractive('df-3decaa9b-c9f1-4f76-9ffc-f91b561ed87a')\"\n",
              "            title=\"Convert this dataframe to an interactive table.\"\n",
              "            style=\"display:none;\">\n",
              "\n",
              "  <svg xmlns=\"http://www.w3.org/2000/svg\" height=\"24px\" viewBox=\"0 -960 960 960\">\n",
              "    <path d=\"M120-120v-720h720v720H120Zm60-500h600v-160H180v160Zm220 220h160v-160H400v160Zm0 220h160v-160H400v160ZM180-400h160v-160H180v160Zm440 0h160v-160H620v160ZM180-180h160v-160H180v160Zm440 0h160v-160H620v160Z\"/>\n",
              "  </svg>\n",
              "    </button>\n",
              "\n",
              "  <style>\n",
              "    .colab-df-container {\n",
              "      display:flex;\n",
              "      gap: 12px;\n",
              "    }\n",
              "\n",
              "    .colab-df-convert {\n",
              "      background-color: #E8F0FE;\n",
              "      border: none;\n",
              "      border-radius: 50%;\n",
              "      cursor: pointer;\n",
              "      display: none;\n",
              "      fill: #1967D2;\n",
              "      height: 32px;\n",
              "      padding: 0 0 0 0;\n",
              "      width: 32px;\n",
              "    }\n",
              "\n",
              "    .colab-df-convert:hover {\n",
              "      background-color: #E2EBFA;\n",
              "      box-shadow: 0px 1px 2px rgba(60, 64, 67, 0.3), 0px 1px 3px 1px rgba(60, 64, 67, 0.15);\n",
              "      fill: #174EA6;\n",
              "    }\n",
              "\n",
              "    .colab-df-buttons div {\n",
              "      margin-bottom: 4px;\n",
              "    }\n",
              "\n",
              "    [theme=dark] .colab-df-convert {\n",
              "      background-color: #3B4455;\n",
              "      fill: #D2E3FC;\n",
              "    }\n",
              "\n",
              "    [theme=dark] .colab-df-convert:hover {\n",
              "      background-color: #434B5C;\n",
              "      box-shadow: 0px 1px 3px 1px rgba(0, 0, 0, 0.15);\n",
              "      filter: drop-shadow(0px 1px 2px rgba(0, 0, 0, 0.3));\n",
              "      fill: #FFFFFF;\n",
              "    }\n",
              "  </style>\n",
              "\n",
              "    <script>\n",
              "      const buttonEl =\n",
              "        document.querySelector('#df-3decaa9b-c9f1-4f76-9ffc-f91b561ed87a button.colab-df-convert');\n",
              "      buttonEl.style.display =\n",
              "        google.colab.kernel.accessAllowed ? 'block' : 'none';\n",
              "\n",
              "      async function convertToInteractive(key) {\n",
              "        const element = document.querySelector('#df-3decaa9b-c9f1-4f76-9ffc-f91b561ed87a');\n",
              "        const dataTable =\n",
              "          await google.colab.kernel.invokeFunction('convertToInteractive',\n",
              "                                                    [key], {});\n",
              "        if (!dataTable) return;\n",
              "\n",
              "        const docLinkHtml = 'Like what you see? Visit the ' +\n",
              "          '<a target=\"_blank\" href=https://colab.research.google.com/notebooks/data_table.ipynb>data table notebook</a>'\n",
              "          + ' to learn more about interactive tables.';\n",
              "        element.innerHTML = '';\n",
              "        dataTable['output_type'] = 'display_data';\n",
              "        await google.colab.output.renderOutput(dataTable, element);\n",
              "        const docLink = document.createElement('div');\n",
              "        docLink.innerHTML = docLinkHtml;\n",
              "        element.appendChild(docLink);\n",
              "      }\n",
              "    </script>\n",
              "  </div>\n",
              "\n",
              "\n",
              "<div id=\"df-88eae7dc-2250-420d-819c-32a89b51f27d\">\n",
              "  <button class=\"colab-df-quickchart\" onclick=\"quickchart('df-88eae7dc-2250-420d-819c-32a89b51f27d')\"\n",
              "            title=\"Suggest charts\"\n",
              "            style=\"display:none;\">\n",
              "\n",
              "<svg xmlns=\"http://www.w3.org/2000/svg\" height=\"24px\"viewBox=\"0 0 24 24\"\n",
              "     width=\"24px\">\n",
              "    <g>\n",
              "        <path d=\"M19 3H5c-1.1 0-2 .9-2 2v14c0 1.1.9 2 2 2h14c1.1 0 2-.9 2-2V5c0-1.1-.9-2-2-2zM9 17H7v-7h2v7zm4 0h-2V7h2v10zm4 0h-2v-4h2v4z\"/>\n",
              "    </g>\n",
              "</svg>\n",
              "  </button>\n",
              "\n",
              "<style>\n",
              "  .colab-df-quickchart {\n",
              "      --bg-color: #E8F0FE;\n",
              "      --fill-color: #1967D2;\n",
              "      --hover-bg-color: #E2EBFA;\n",
              "      --hover-fill-color: #174EA6;\n",
              "      --disabled-fill-color: #AAA;\n",
              "      --disabled-bg-color: #DDD;\n",
              "  }\n",
              "\n",
              "  [theme=dark] .colab-df-quickchart {\n",
              "      --bg-color: #3B4455;\n",
              "      --fill-color: #D2E3FC;\n",
              "      --hover-bg-color: #434B5C;\n",
              "      --hover-fill-color: #FFFFFF;\n",
              "      --disabled-bg-color: #3B4455;\n",
              "      --disabled-fill-color: #666;\n",
              "  }\n",
              "\n",
              "  .colab-df-quickchart {\n",
              "    background-color: var(--bg-color);\n",
              "    border: none;\n",
              "    border-radius: 50%;\n",
              "    cursor: pointer;\n",
              "    display: none;\n",
              "    fill: var(--fill-color);\n",
              "    height: 32px;\n",
              "    padding: 0;\n",
              "    width: 32px;\n",
              "  }\n",
              "\n",
              "  .colab-df-quickchart:hover {\n",
              "    background-color: var(--hover-bg-color);\n",
              "    box-shadow: 0 1px 2px rgba(60, 64, 67, 0.3), 0 1px 3px 1px rgba(60, 64, 67, 0.15);\n",
              "    fill: var(--button-hover-fill-color);\n",
              "  }\n",
              "\n",
              "  .colab-df-quickchart-complete:disabled,\n",
              "  .colab-df-quickchart-complete:disabled:hover {\n",
              "    background-color: var(--disabled-bg-color);\n",
              "    fill: var(--disabled-fill-color);\n",
              "    box-shadow: none;\n",
              "  }\n",
              "\n",
              "  .colab-df-spinner {\n",
              "    border: 2px solid var(--fill-color);\n",
              "    border-color: transparent;\n",
              "    border-bottom-color: var(--fill-color);\n",
              "    animation:\n",
              "      spin 1s steps(1) infinite;\n",
              "  }\n",
              "\n",
              "  @keyframes spin {\n",
              "    0% {\n",
              "      border-color: transparent;\n",
              "      border-bottom-color: var(--fill-color);\n",
              "      border-left-color: var(--fill-color);\n",
              "    }\n",
              "    20% {\n",
              "      border-color: transparent;\n",
              "      border-left-color: var(--fill-color);\n",
              "      border-top-color: var(--fill-color);\n",
              "    }\n",
              "    30% {\n",
              "      border-color: transparent;\n",
              "      border-left-color: var(--fill-color);\n",
              "      border-top-color: var(--fill-color);\n",
              "      border-right-color: var(--fill-color);\n",
              "    }\n",
              "    40% {\n",
              "      border-color: transparent;\n",
              "      border-right-color: var(--fill-color);\n",
              "      border-top-color: var(--fill-color);\n",
              "    }\n",
              "    60% {\n",
              "      border-color: transparent;\n",
              "      border-right-color: var(--fill-color);\n",
              "    }\n",
              "    80% {\n",
              "      border-color: transparent;\n",
              "      border-right-color: var(--fill-color);\n",
              "      border-bottom-color: var(--fill-color);\n",
              "    }\n",
              "    90% {\n",
              "      border-color: transparent;\n",
              "      border-bottom-color: var(--fill-color);\n",
              "    }\n",
              "  }\n",
              "</style>\n",
              "\n",
              "  <script>\n",
              "    async function quickchart(key) {\n",
              "      const quickchartButtonEl =\n",
              "        document.querySelector('#' + key + ' button');\n",
              "      quickchartButtonEl.disabled = true;  // To prevent multiple clicks.\n",
              "      quickchartButtonEl.classList.add('colab-df-spinner');\n",
              "      try {\n",
              "        const charts = await google.colab.kernel.invokeFunction(\n",
              "            'suggestCharts', [key], {});\n",
              "      } catch (error) {\n",
              "        console.error('Error during call to suggestCharts:', error);\n",
              "      }\n",
              "      quickchartButtonEl.classList.remove('colab-df-spinner');\n",
              "      quickchartButtonEl.classList.add('colab-df-quickchart-complete');\n",
              "    }\n",
              "    (() => {\n",
              "      let quickchartButtonEl =\n",
              "        document.querySelector('#df-88eae7dc-2250-420d-819c-32a89b51f27d button');\n",
              "      quickchartButtonEl.style.display =\n",
              "        google.colab.kernel.accessAllowed ? 'block' : 'none';\n",
              "    })();\n",
              "  </script>\n",
              "</div>\n",
              "\n",
              "    </div>\n",
              "  </div>\n"
            ],
            "application/vnd.google.colaboratory.intrinsic+json": {
              "type": "dataframe",
              "variable_name": "full_data"
            }
          },
          "metadata": {},
          "execution_count": 5
        }
      ],
      "source": [
        "full_data.head()"
      ]
    },
    {
      "cell_type": "code",
      "execution_count": null,
      "metadata": {
        "id": "P5T0LyW-HUQV"
      },
      "outputs": [],
      "source": [
        "#train_data.head()"
      ]
    },
    {
      "cell_type": "markdown",
      "metadata": {
        "id": "ZImUtWx3QD2c"
      },
      "source": [
        "Next, we check for any missing and null values with the isna function"
      ]
    },
    {
      "cell_type": "code",
      "execution_count": null,
      "metadata": {
        "id": "32b7vyS-Mv3M",
        "colab": {
          "base_uri": "https://localhost:8080/"
        },
        "outputId": "39e3cf52-49f2-4b08-c923-6008c21aa025"
      },
      "outputs": [
        {
          "output_type": "stream",
          "name": "stdout",
          "text": [
            "Number of missing values in each column:\n",
            "MONTH                       0\n",
            "DAY_OF_WEEK                 0\n",
            "DEP_TIME_BLK                0\n",
            "DISTANCE_GROUP              0\n",
            "CONCURRENT_FLIGHTS          0\n",
            "NUMBER_OF_SEATS             0\n",
            "CARRIER_NAME                0\n",
            "AVG_MONTHLY_PASS_AIRLINE    0\n",
            "FLT_ATTENDANTS_PER_PASS     0\n",
            "DEPARTING_AIRPORT           0\n",
            "PRCP                        0\n",
            "SNOW                        0\n",
            "SNWD                        0\n",
            "TMAX                        0\n",
            "AWND                        0\n",
            "DEP_DEL15                   0\n",
            "AIRPORT_FLIGHTS_MONTH       0\n",
            "AIRLINE_FLIGHTS_MONTH       0\n",
            "GROUND_SERV_PER_PASS        0\n",
            "PLANE_AGE                   0\n",
            "dtype: int64\n"
          ]
        }
      ],
      "source": [
        "#checking for any missing values\n",
        "missing_values_count = full_data.isna().sum()\n",
        "print(\"Number of missing values in each column:\")\n",
        "print(missing_values_count)"
      ]
    },
    {
      "cell_type": "code",
      "execution_count": null,
      "metadata": {
        "id": "3_a2Xv8HEr2r",
        "colab": {
          "base_uri": "https://localhost:8080/"
        },
        "outputId": "c488bd64-deaf-4b24-b13d-8720e3512f3d"
      },
      "outputs": [
        {
          "output_type": "execute_result",
          "data": {
            "text/plain": [
              "MONTH                       0\n",
              "DAY_OF_WEEK                 0\n",
              "DEP_TIME_BLK                0\n",
              "DISTANCE_GROUP              0\n",
              "CONCURRENT_FLIGHTS          0\n",
              "NUMBER_OF_SEATS             0\n",
              "CARRIER_NAME                0\n",
              "AVG_MONTHLY_PASS_AIRLINE    0\n",
              "FLT_ATTENDANTS_PER_PASS     0\n",
              "DEPARTING_AIRPORT           0\n",
              "PRCP                        0\n",
              "SNOW                        0\n",
              "SNWD                        0\n",
              "TMAX                        0\n",
              "AWND                        0\n",
              "DEP_DEL15                   0\n",
              "AIRPORT_FLIGHTS_MONTH       0\n",
              "AIRLINE_FLIGHTS_MONTH       0\n",
              "GROUND_SERV_PER_PASS        0\n",
              "PLANE_AGE                   0\n",
              "dtype: int64"
            ]
          },
          "metadata": {},
          "execution_count": 7
        }
      ],
      "source": [
        "#checking for any null values\n",
        "full_data.isnull().sum()"
      ]
    },
    {
      "cell_type": "markdown",
      "metadata": {
        "id": "Jo713DJCQqru"
      },
      "source": [
        "Next, we analyze the dimensionality of the dataset by looking at the data types of our attributes"
      ]
    },
    {
      "cell_type": "code",
      "execution_count": null,
      "metadata": {
        "id": "KNRp2xtlFQkM",
        "colab": {
          "base_uri": "https://localhost:8080/"
        },
        "outputId": "6922521b-5354-4e22-808f-bd16c706ef99"
      },
      "outputs": [
        {
          "output_type": "execute_result",
          "data": {
            "text/plain": [
              "MONTH                         int64\n",
              "DAY_OF_WEEK                   int64\n",
              "DEP_TIME_BLK                 object\n",
              "DISTANCE_GROUP                int64\n",
              "CONCURRENT_FLIGHTS            int64\n",
              "NUMBER_OF_SEATS               int64\n",
              "CARRIER_NAME                 object\n",
              "AVG_MONTHLY_PASS_AIRLINE      int64\n",
              "FLT_ATTENDANTS_PER_PASS     float64\n",
              "DEPARTING_AIRPORT            object\n",
              "PRCP                        float64\n",
              "SNOW                        float64\n",
              "SNWD                        float64\n",
              "TMAX                        float64\n",
              "AWND                        float64\n",
              "DEP_DEL15                     int64\n",
              "AIRPORT_FLIGHTS_MONTH         int64\n",
              "AIRLINE_FLIGHTS_MONTH         int64\n",
              "GROUND_SERV_PER_PASS        float64\n",
              "PLANE_AGE                     int64\n",
              "dtype: object"
            ]
          },
          "metadata": {},
          "execution_count": 10
        }
      ],
      "source": [
        "#looking at the data types\n",
        "full_data.dtypes"
      ]
    },
    {
      "cell_type": "markdown",
      "metadata": {
        "id": "egT-GT_kq8Bn"
      },
      "source": [
        "Here is the shape and size of the dataset for reference"
      ]
    },
    {
      "cell_type": "code",
      "execution_count": null,
      "metadata": {
        "id": "cI3v0HzKqvN6",
        "colab": {
          "base_uri": "https://localhost:8080/"
        },
        "outputId": "edb4e29e-18f3-4057-c7c8-3bcc9bf06234"
      },
      "outputs": [
        {
          "output_type": "execute_result",
          "data": {
            "text/plain": [
              "(6489062, 20)"
            ]
          },
          "metadata": {},
          "execution_count": 8
        }
      ],
      "source": [
        "full_data.shape"
      ]
    },
    {
      "cell_type": "code",
      "execution_count": null,
      "metadata": {
        "id": "mGI1AkuQrglu",
        "colab": {
          "base_uri": "https://localhost:8080/"
        },
        "outputId": "7d690eed-fcb6-4e66-c584-a654563f18f7"
      },
      "outputs": [
        {
          "output_type": "execute_result",
          "data": {
            "text/plain": [
              "129781240"
            ]
          },
          "metadata": {},
          "execution_count": 9
        }
      ],
      "source": [
        "full_data.size"
      ]
    },
    {
      "cell_type": "markdown",
      "metadata": {
        "id": "zNPtoxp2Q0Sg"
      },
      "source": [
        "Next, we take a look at our target attribute, DEP_DEL15, which is either 1 or 0. This indicates whether or not the flight in question was delayed by more than 15 minutes.\n",
        "\n",
        "We can see that there is a disparity here in our data. There are many more non-delayed flights than delayed flights."
      ]
    },
    {
      "cell_type": "code",
      "execution_count": null,
      "metadata": {
        "id": "kHSSct2GPysw",
        "colab": {
          "base_uri": "https://localhost:8080/",
          "height": 564
        },
        "outputId": "98db3ace-5426-4c27-d3d8-57abd621e9e4"
      },
      "outputs": [
        {
          "output_type": "display_data",
          "data": {
            "text/plain": [
              "<Figure size 800x600 with 1 Axes>"
            ],
            "image/png": "[encoded data removed]"
          },
          "metadata": {}
        }
      ],
      "source": [
        "column_to_plot = 'DEP_DEL15'\n",
        "\n",
        "plt.figure(figsize=(8, 6))\n",
        "sns.countplot(data=full_data, x=column_to_plot)\n",
        "plt.title('Count of 1s and 0s in ' + column_to_plot)\n",
        "plt.xlabel(column_to_plot)\n",
        "plt.ylabel('Count')\n",
        "plt.show()"
      ]
    },
    {
      "cell_type": "code",
      "source": [
        "# check the distribution\n",
        "full_data['DEP_DEL15'].value_counts()/full_data.shape[0]"
      ],
      "metadata": {
        "colab": {
          "base_uri": "https://localhost:8080/"
        },
        "id": "4lSUlKunKFJk",
        "outputId": "52755cf2-05d6-4460-ce3e-ea3039c77d0d"
      },
      "execution_count": null,
      "outputs": [
        {
          "output_type": "execute_result",
          "data": {
            "text/plain": [
              "DEP_DEL15\n",
              "0    0.810856\n",
              "1    0.189144\n",
              "Name: count, dtype: float64"
            ]
          },
          "metadata": {},
          "execution_count": 12
        }
      ]
    },
    {
      "cell_type": "markdown",
      "metadata": {
        "id": "VTdw_M-GRg0a"
      },
      "source": [
        "Next, we eliminate attributes CARRIER_NAME and PREVIOUS_AIRPORT, as they are not likely to be helpful to our models"
      ]
    },
    {
      "cell_type": "code",
      "execution_count": null,
      "metadata": {
        "id": "2rivmqFFIx_o"
      },
      "outputs": [],
      "source": [
        "columns_to_ignore = ['CARRIER_NAME', 'PREVIOUS_AIRPORT', 'DEP_TIME_BLK', 'DEPARTING_AIRPORT']\n",
        "full_filtered = full_data.drop(columns=columns_to_ignore, errors='ignore')"
      ]
    },
    {
      "cell_type": "markdown",
      "metadata": {
        "id": "LNV2l747R9wN"
      },
      "source": [
        "Next, we create a correlation matrix to see if there are any immediately obvious attributes that correlate with a delayed departure.\n",
        "\n",
        "Nothing stands out as noteworthy. Although there may be some attributes that correlate with each other because they are similar in their purpose."
      ]
    },
    {
      "cell_type": "code",
      "execution_count": null,
      "metadata": {
        "id": "3yxDIvWlIVOB",
        "colab": {
          "base_uri": "https://localhost:8080/",
          "height": 1000
        },
        "outputId": "6659d501-21e2-47c1-c029-dd0b271ab120"
      },
      "outputs": [
        {
          "output_type": "display_data",
          "data": {
            "text/plain": [
              "<Figure size 1400x1200 with 2 Axes>"
            ],
            "image/png": "[encoded data removed]"
          },
          "metadata": {}
        }
      ],
      "source": [
        "correlation_train = full_filtered.corr()\n",
        "plt.figure(figsize=(14, 12))\n",
        "sns.heatmap(correlation_train, annot=True, cmap='coolwarm', fmt=\".2f\")\n",
        "plt.title('Correlation Matrix')\n",
        "plt.show()"
      ]
    },
    {
      "cell_type": "markdown",
      "source": [
        "# Data Cleaning and Wrangling"
      ],
      "metadata": {
        "id": "2EsvueQXMPXu"
      }
    },
    {
      "cell_type": "markdown",
      "metadata": {
        "id": "RcWgxA0DSwq0"
      },
      "source": [
        "Next, we drop all rows that contain NAs. The number of rows with NAs is not many so it should not have a statistical effect on the dataset."
      ]
    },
    {
      "cell_type": "code",
      "execution_count": null,
      "metadata": {
        "id": "CgldbSfJO51-",
        "colab": {
          "base_uri": "https://localhost:8080/"
        },
        "outputId": "dca28d65-f99c-4245-d4db-62ed0e80e555"
      },
      "outputs": [
        {
          "output_type": "stream",
          "name": "stdout",
          "text": [
            "Original Shape:           MONTH  DAY_OF_WEEK DEP_TIME_BLK  DISTANCE_GROUP  CONCURRENT_FLIGHTS  \\\n",
            "0            1            7    0800-0859               2                  25   \n",
            "1            1            7    0700-0759               7                  29   \n",
            "2            1            7    0600-0659               7                  27   \n",
            "3            1            7    0600-0659               9                  27   \n",
            "4            1            7    0001-0559               7                  10   \n",
            "...        ...          ...          ...             ...                 ...   \n",
            "1048570      3            7    2000-2059              10                  25   \n",
            "1048571      3            7    0800-0859               3                  33   \n",
            "1048572      3            7    1800-1859               7                  26   \n",
            "1048573      3            7    0800-0859              11                  33   \n",
            "1048574      3            7    1900-1959               5                  25   \n",
            "\n",
            "         NUMBER_OF_SEATS            CARRIER_NAME  AVG_MONTHLY_PASS_AIRLINE  \\\n",
            "0                    143  Southwest Airlines Co.                  13382999   \n",
            "1                    191    Delta Air Lines Inc.                  12460183   \n",
            "2                    199    Delta Air Lines Inc.                  12460183   \n",
            "3                    180    Delta Air Lines Inc.                  12460183   \n",
            "4                    182        Spirit Air Lines                   2688839   \n",
            "...                  ...                     ...                       ...   \n",
            "1048570              154   United Air Lines Inc.                   8501631   \n",
            "1048571              276   United Air Lines Inc.                   8501631   \n",
            "1048572              169   United Air Lines Inc.                   8501631   \n",
            "1048573              235   United Air Lines Inc.                   8501631   \n",
            "1048574              173   United Air Lines Inc.                   8501631   \n",
            "\n",
            "         FLT_ATTENDANTS_PER_PASS             DEPARTING_AIRPORT  PRCP  SNOW  \\\n",
            "0                       0.000062        McCarran International  0.00   0.0   \n",
            "1                       0.000144        McCarran International  0.00   0.0   \n",
            "2                       0.000144        McCarran International  0.00   0.0   \n",
            "3                       0.000144        McCarran International  0.00   0.0   \n",
            "4                       0.000009        McCarran International  0.00   0.0   \n",
            "...                          ...                           ...   ...   ...   \n",
            "1048570                 0.000254  Newark Liberty International  0.03   0.0   \n",
            "1048571                 0.000254  Newark Liberty International  0.03   0.0   \n",
            "1048572                 0.000254  Newark Liberty International  0.03   0.0   \n",
            "1048573                 0.000254  Newark Liberty International  0.03   0.0   \n",
            "1048574                 0.000254  Newark Liberty International  0.03   0.0   \n",
            "\n",
            "         SNWD  TMAX   AWND  DEP_DEL15  AIRPORT_FLIGHTS_MONTH  \\\n",
            "0         0.0  65.0   2.91          0                  13056   \n",
            "1         0.0  65.0   2.91          0                  13056   \n",
            "2         0.0  65.0   2.91          0                  13056   \n",
            "3         0.0  65.0   2.91          0                  13056   \n",
            "4         0.0  65.0   2.91          0                  13056   \n",
            "...       ...   ...    ...        ...                    ...   \n",
            "1048570   0.0  65.0  14.09          1                  11562   \n",
            "1048571   0.0  65.0  14.09          1                  11562   \n",
            "1048572   0.0  65.0  14.09          0                  11562   \n",
            "1048573   0.0  65.0  14.09          0                  11562   \n",
            "1048574   0.0  65.0  14.09          0                  11562   \n",
            "\n",
            "         AIRLINE_FLIGHTS_MONTH  GROUND_SERV_PER_PASS  PLANE_AGE  \n",
            "0                       107363              0.000099          8  \n",
            "1                        73508              0.000149          3  \n",
            "2                        73508              0.000149         18  \n",
            "3                        73508              0.000149          2  \n",
            "4                        15023              0.000125          1  \n",
            "...                        ...                   ...        ...  \n",
            "1048570                  53007              0.000229         11  \n",
            "1048571                  53007              0.000229         20  \n",
            "1048572                  53007              0.000229         23  \n",
            "1048573                  53007              0.000229         17  \n",
            "1048574                  53007              0.000229          5  \n",
            "\n",
            "[1048575 rows x 20 columns]\n",
            "Cleaned:           MONTH  DAY_OF_WEEK DEP_TIME_BLK  DISTANCE_GROUP  CONCURRENT_FLIGHTS  \\\n",
            "0            1            7    0800-0859               2                  25   \n",
            "1            1            7    0700-0759               7                  29   \n",
            "2            1            7    0600-0659               7                  27   \n",
            "3            1            7    0600-0659               9                  27   \n",
            "4            1            7    0001-0559               7                  10   \n",
            "...        ...          ...          ...             ...                 ...   \n",
            "1048570      3            7    2000-2059              10                  25   \n",
            "1048571      3            7    0800-0859               3                  33   \n",
            "1048572      3            7    1800-1859               7                  26   \n",
            "1048573      3            7    0800-0859              11                  33   \n",
            "1048574      3            7    1900-1959               5                  25   \n",
            "\n",
            "         NUMBER_OF_SEATS            CARRIER_NAME  AVG_MONTHLY_PASS_AIRLINE  \\\n",
            "0                    143  Southwest Airlines Co.                  13382999   \n",
            "1                    191    Delta Air Lines Inc.                  12460183   \n",
            "2                    199    Delta Air Lines Inc.                  12460183   \n",
            "3                    180    Delta Air Lines Inc.                  12460183   \n",
            "4                    182        Spirit Air Lines                   2688839   \n",
            "...                  ...                     ...                       ...   \n",
            "1048570              154   United Air Lines Inc.                   8501631   \n",
            "1048571              276   United Air Lines Inc.                   8501631   \n",
            "1048572              169   United Air Lines Inc.                   8501631   \n",
            "1048573              235   United Air Lines Inc.                   8501631   \n",
            "1048574              173   United Air Lines Inc.                   8501631   \n",
            "\n",
            "         FLT_ATTENDANTS_PER_PASS             DEPARTING_AIRPORT  PRCP  SNOW  \\\n",
            "0                       0.000062        McCarran International  0.00   0.0   \n",
            "1                       0.000144        McCarran International  0.00   0.0   \n",
            "2                       0.000144        McCarran International  0.00   0.0   \n",
            "3                       0.000144        McCarran International  0.00   0.0   \n",
            "4                       0.000009        McCarran International  0.00   0.0   \n",
            "...                          ...                           ...   ...   ...   \n",
            "1048570                 0.000254  Newark Liberty International  0.03   0.0   \n",
            "1048571                 0.000254  Newark Liberty International  0.03   0.0   \n",
            "1048572                 0.000254  Newark Liberty International  0.03   0.0   \n",
            "1048573                 0.000254  Newark Liberty International  0.03   0.0   \n",
            "1048574                 0.000254  Newark Liberty International  0.03   0.0   \n",
            "\n",
            "         SNWD  TMAX   AWND  DEP_DEL15  AIRPORT_FLIGHTS_MONTH  \\\n",
            "0         0.0  65.0   2.91          0                  13056   \n",
            "1         0.0  65.0   2.91          0                  13056   \n",
            "2         0.0  65.0   2.91          0                  13056   \n",
            "3         0.0  65.0   2.91          0                  13056   \n",
            "4         0.0  65.0   2.91          0                  13056   \n",
            "...       ...   ...    ...        ...                    ...   \n",
            "1048570   0.0  65.0  14.09          1                  11562   \n",
            "1048571   0.0  65.0  14.09          1                  11562   \n",
            "1048572   0.0  65.0  14.09          0                  11562   \n",
            "1048573   0.0  65.0  14.09          0                  11562   \n",
            "1048574   0.0  65.0  14.09          0                  11562   \n",
            "\n",
            "         AIRLINE_FLIGHTS_MONTH  GROUND_SERV_PER_PASS  PLANE_AGE  \n",
            "0                       107363              0.000099          8  \n",
            "1                        73508              0.000149          3  \n",
            "2                        73508              0.000149         18  \n",
            "3                        73508              0.000149          2  \n",
            "4                        15023              0.000125          1  \n",
            "...                        ...                   ...        ...  \n",
            "1048570                  53007              0.000229         11  \n",
            "1048571                  53007              0.000229         20  \n",
            "1048572                  53007              0.000229         23  \n",
            "1048573                  53007              0.000229         17  \n",
            "1048574                  53007              0.000229          5  \n",
            "\n",
            "[1048575 rows x 20 columns]\n"
          ]
        }
      ],
      "source": [
        "full_data_clean = full_data.dropna()\n",
        "print(\"Original Shape: \", full_data)\n",
        "print(\"Cleaned: \", full_data_clean)"
      ]
    },
    {
      "cell_type": "code",
      "execution_count": null,
      "metadata": {
        "id": "aRnawbyu7FY_",
        "colab": {
          "base_uri": "https://localhost:8080/",
          "height": 538
        },
        "outputId": "cddcb990-2884-4fdf-d919-dc276333d60d"
      },
      "outputs": [
        {
          "output_type": "stream",
          "name": "stderr",
          "text": [
            "<ipython-input-11-833ca8b0df86>:7: SettingWithCopyWarning: \n",
            "A value is trying to be set on a copy of a slice from a DataFrame.\n",
            "Try using .loc[row_indexer,col_indexer] = value instead\n",
            "\n",
            "See the caveats in the documentation: https://pandas.pydata.org/pandas-docs/stable/user_guide/indexing.html#returning-a-view-versus-a-copy\n",
            "  df[label] = le.fit_transform(df[label])\n",
            "<ipython-input-11-833ca8b0df86>:7: SettingWithCopyWarning: \n",
            "A value is trying to be set on a copy of a slice from a DataFrame.\n",
            "Try using .loc[row_indexer,col_indexer] = value instead\n",
            "\n",
            "See the caveats in the documentation: https://pandas.pydata.org/pandas-docs/stable/user_guide/indexing.html#returning-a-view-versus-a-copy\n",
            "  df[label] = le.fit_transform(df[label])\n",
            "<ipython-input-11-833ca8b0df86>:7: SettingWithCopyWarning: \n",
            "A value is trying to be set on a copy of a slice from a DataFrame.\n",
            "Try using .loc[row_indexer,col_indexer] = value instead\n",
            "\n",
            "See the caveats in the documentation: https://pandas.pydata.org/pandas-docs/stable/user_guide/indexing.html#returning-a-view-versus-a-copy\n",
            "  df[label] = le.fit_transform(df[label])\n"
          ]
        },
        {
          "output_type": "execute_result",
          "data": {
            "text/plain": [
              "   MONTH  DAY_OF_WEEK  DEP_TIME_BLK  DISTANCE_GROUP  CONCURRENT_FLIGHTS  \\\n",
              "0      1            7             3               2                  25   \n",
              "1      1            7             2               7                  29   \n",
              "2      1            7             1               7                  27   \n",
              "3      1            7             1               9                  27   \n",
              "4      1            7             0               7                  10   \n",
              "\n",
              "   NUMBER_OF_SEATS  CARRIER_NAME  AVG_MONTHLY_PASS_AIRLINE  \\\n",
              "0              143            14                  13382999   \n",
              "1              191             6                  12460183   \n",
              "2              199             6                  12460183   \n",
              "3              180             6                  12460183   \n",
              "4              182            15                   2688839   \n",
              "\n",
              "   FLT_ATTENDANTS_PER_PASS  DEPARTING_AIRPORT  PRCP  SNOW  SNWD  TMAX  AWND  \\\n",
              "0                 0.000062                 44   0.0   0.0   0.0  65.0  2.91   \n",
              "1                 0.000144                 44   0.0   0.0   0.0  65.0  2.91   \n",
              "2                 0.000144                 44   0.0   0.0   0.0  65.0  2.91   \n",
              "3                 0.000144                 44   0.0   0.0   0.0  65.0  2.91   \n",
              "4                 0.000009                 44   0.0   0.0   0.0  65.0  2.91   \n",
              "\n",
              "   DEP_DEL15  AIRPORT_FLIGHTS_MONTH  AIRLINE_FLIGHTS_MONTH  \\\n",
              "0          0                  13056                 107363   \n",
              "1          0                  13056                  73508   \n",
              "2          0                  13056                  73508   \n",
              "3          0                  13056                  73508   \n",
              "4          0                  13056                  15023   \n",
              "\n",
              "   GROUND_SERV_PER_PASS  PLANE_AGE  \n",
              "0              0.000099          8  \n",
              "1              0.000149          3  \n",
              "2              0.000149         18  \n",
              "3              0.000149          2  \n",
              "4              0.000125          1  "
            ],
            "text/html": [
              "\n",
              "  <div id=\"df-e4067d91-d16f-4e22-afd2-b112f2318255\" class=\"colab-df-container\">\n",
              "    <div>\n",
              "<style scoped>\n",
              "    .dataframe tbody tr th:only-of-type {\n",
              "        vertical-align: middle;\n",
              "    }\n",
              "\n",
              "    .dataframe tbody tr th {\n",
              "        vertical-align: top;\n",
              "    }\n",
              "\n",
              "    .dataframe thead th {\n",
              "        text-align: right;\n",
              "    }\n",
              "</style>\n",
              "<table border=\"1\" class=\"dataframe\">\n",
              "  <thead>\n",
              "    <tr style=\"text-align: right;\">\n",
              "      <th></th>\n",
              "      <th>MONTH</th>\n",
              "      <th>DAY_OF_WEEK</th>\n",
              "      <th>DEP_TIME_BLK</th>\n",
              "      <th>DISTANCE_GROUP</th>\n",
              "      <th>CONCURRENT_FLIGHTS</th>\n",
              "      <th>NUMBER_OF_SEATS</th>\n",
              "      <th>CARRIER_NAME</th>\n",
              "      <th>AVG_MONTHLY_PASS_AIRLINE</th>\n",
              "      <th>FLT_ATTENDANTS_PER_PASS</th>\n",
              "      <th>DEPARTING_AIRPORT</th>\n",
              "      <th>PRCP</th>\n",
              "      <th>SNOW</th>\n",
              "      <th>SNWD</th>\n",
              "      <th>TMAX</th>\n",
              "      <th>AWND</th>\n",
              "      <th>DEP_DEL15</th>\n",
              "      <th>AIRPORT_FLIGHTS_MONTH</th>\n",
              "      <th>AIRLINE_FLIGHTS_MONTH</th>\n",
              "      <th>GROUND_SERV_PER_PASS</th>\n",
              "      <th>PLANE_AGE</th>\n",
              "    </tr>\n",
              "  </thead>\n",
              "  <tbody>\n",
              "    <tr>\n",
              "      <th>0</th>\n",
              "      <td>1</td>\n",
              "      <td>7</td>\n",
              "      <td>3</td>\n",
              "      <td>2</td>\n",
              "      <td>25</td>\n",
              "      <td>143</td>\n",
              "      <td>14</td>\n",
              "      <td>13382999</td>\n",
              "      <td>0.000062</td>\n",
              "      <td>44</td>\n",
              "      <td>0.0</td>\n",
              "      <td>0.0</td>\n",
              "      <td>0.0</td>\n",
              "      <td>65.0</td>\n",
              "      <td>2.91</td>\n",
              "      <td>0</td>\n",
              "      <td>13056</td>\n",
              "      <td>107363</td>\n",
              "      <td>0.000099</td>\n",
              "      <td>8</td>\n",
              "    </tr>\n",
              "    <tr>\n",
              "      <th>1</th>\n",
              "      <td>1</td>\n",
              "      <td>7</td>\n",
              "      <td>2</td>\n",
              "      <td>7</td>\n",
              "      <td>29</td>\n",
              "      <td>191</td>\n",
              "      <td>6</td>\n",
              "      <td>12460183</td>\n",
              "      <td>0.000144</td>\n",
              "      <td>44</td>\n",
              "      <td>0.0</td>\n",
              "      <td>0.0</td>\n",
              "      <td>0.0</td>\n",
              "      <td>65.0</td>\n",
              "      <td>2.91</td>\n",
              "      <td>0</td>\n",
              "      <td>13056</td>\n",
              "      <td>73508</td>\n",
              "      <td>0.000149</td>\n",
              "      <td>3</td>\n",
              "    </tr>\n",
              "    <tr>\n",
              "      <th>2</th>\n",
              "      <td>1</td>\n",
              "      <td>7</td>\n",
              "      <td>1</td>\n",
              "      <td>7</td>\n",
              "      <td>27</td>\n",
              "      <td>199</td>\n",
              "      <td>6</td>\n",
              "      <td>12460183</td>\n",
              "      <td>0.000144</td>\n",
              "      <td>44</td>\n",
              "      <td>0.0</td>\n",
              "      <td>0.0</td>\n",
              "      <td>0.0</td>\n",
              "      <td>65.0</td>\n",
              "      <td>2.91</td>\n",
              "      <td>0</td>\n",
              "      <td>13056</td>\n",
              "      <td>73508</td>\n",
              "      <td>0.000149</td>\n",
              "      <td>18</td>\n",
              "    </tr>\n",
              "    <tr>\n",
              "      <th>3</th>\n",
              "      <td>1</td>\n",
              "      <td>7</td>\n",
              "      <td>1</td>\n",
              "      <td>9</td>\n",
              "      <td>27</td>\n",
              "      <td>180</td>\n",
              "      <td>6</td>\n",
              "      <td>12460183</td>\n",
              "      <td>0.000144</td>\n",
              "      <td>44</td>\n",
              "      <td>0.0</td>\n",
              "      <td>0.0</td>\n",
              "      <td>0.0</td>\n",
              "      <td>65.0</td>\n",
              "      <td>2.91</td>\n",
              "      <td>0</td>\n",
              "      <td>13056</td>\n",
              "      <td>73508</td>\n",
              "      <td>0.000149</td>\n",
              "      <td>2</td>\n",
              "    </tr>\n",
              "    <tr>\n",
              "      <th>4</th>\n",
              "      <td>1</td>\n",
              "      <td>7</td>\n",
              "      <td>0</td>\n",
              "      <td>7</td>\n",
              "      <td>10</td>\n",
              "      <td>182</td>\n",
              "      <td>15</td>\n",
              "      <td>2688839</td>\n",
              "      <td>0.000009</td>\n",
              "      <td>44</td>\n",
              "      <td>0.0</td>\n",
              "      <td>0.0</td>\n",
              "      <td>0.0</td>\n",
              "      <td>65.0</td>\n",
              "      <td>2.91</td>\n",
              "      <td>0</td>\n",
              "      <td>13056</td>\n",
              "      <td>15023</td>\n",
              "      <td>0.000125</td>\n",
              "      <td>1</td>\n",
              "    </tr>\n",
              "  </tbody>\n",
              "</table>\n",
              "</div>\n",
              "    <div class=\"colab-df-buttons\">\n",
              "\n",
              "  <div class=\"colab-df-container\">\n",
              "    <button class=\"colab-df-convert\" onclick=\"convertToInteractive('df-e4067d91-d16f-4e22-afd2-b112f2318255')\"\n",
              "            title=\"Convert this dataframe to an interactive table.\"\n",
              "            style=\"display:none;\">\n",
              "\n",
              "  <svg xmlns=\"http://www.w3.org/2000/svg\" height=\"24px\" viewBox=\"0 -960 960 960\">\n",
              "    <path d=\"M120-120v-720h720v720H120Zm60-500h600v-160H180v160Zm220 220h160v-160H400v160Zm0 220h160v-160H400v160ZM180-400h160v-160H180v160Zm440 0h160v-160H620v160ZM180-180h160v-160H180v160Zm440 0h160v-160H620v160Z\"/>\n",
              "  </svg>\n",
              "    </button>\n",
              "\n",
              "  <style>\n",
              "    .colab-df-container {\n",
              "      display:flex;\n",
              "      gap: 12px;\n",
              "    }\n",
              "\n",
              "    .colab-df-convert {\n",
              "      background-color: #E8F0FE;\n",
              "      border: none;\n",
              "      border-radius: 50%;\n",
              "      cursor: pointer;\n",
              "      display: none;\n",
              "      fill: #1967D2;\n",
              "      height: 32px;\n",
              "      padding: 0 0 0 0;\n",
              "      width: 32px;\n",
              "    }\n",
              "\n",
              "    .colab-df-convert:hover {\n",
              "      background-color: #E2EBFA;\n",
              "      box-shadow: 0px 1px 2px rgba(60, 64, 67, 0.3), 0px 1px 3px 1px rgba(60, 64, 67, 0.15);\n",
              "      fill: #174EA6;\n",
              "    }\n",
              "\n",
              "    .colab-df-buttons div {\n",
              "      margin-bottom: 4px;\n",
              "    }\n",
              "\n",
              "    [theme=dark] .colab-df-convert {\n",
              "      background-color: #3B4455;\n",
              "      fill: #D2E3FC;\n",
              "    }\n",
              "\n",
              "    [theme=dark] .colab-df-convert:hover {\n",
              "      background-color: #434B5C;\n",
              "      box-shadow: 0px 1px 3px 1px rgba(0, 0, 0, 0.15);\n",
              "      filter: drop-shadow(0px 1px 2px rgba(0, 0, 0, 0.3));\n",
              "      fill: #FFFFFF;\n",
              "    }\n",
              "  </style>\n",
              "\n",
              "    <script>\n",
              "      const buttonEl =\n",
              "        document.querySelector('#df-e4067d91-d16f-4e22-afd2-b112f2318255 button.colab-df-convert');\n",
              "      buttonEl.style.display =\n",
              "        google.colab.kernel.accessAllowed ? 'block' : 'none';\n",
              "\n",
              "      async function convertToInteractive(key) {\n",
              "        const element = document.querySelector('#df-e4067d91-d16f-4e22-afd2-b112f2318255');\n",
              "        const dataTable =\n",
              "          await google.colab.kernel.invokeFunction('convertToInteractive',\n",
              "                                                    [key], {});\n",
              "        if (!dataTable) return;\n",
              "\n",
              "        const docLinkHtml = 'Like what you see? Visit the ' +\n",
              "          '<a target=\"_blank\" href=https://colab.research.google.com/notebooks/data_table.ipynb>data table notebook</a>'\n",
              "          + ' to learn more about interactive tables.';\n",
              "        element.innerHTML = '';\n",
              "        dataTable['output_type'] = 'display_data';\n",
              "        await google.colab.output.renderOutput(dataTable, element);\n",
              "        const docLink = document.createElement('div');\n",
              "        docLink.innerHTML = docLinkHtml;\n",
              "        element.appendChild(docLink);\n",
              "      }\n",
              "    </script>\n",
              "  </div>\n",
              "\n",
              "\n",
              "<div id=\"df-3a67c567-e297-47eb-853c-1e9299a40211\">\n",
              "  <button class=\"colab-df-quickchart\" onclick=\"quickchart('df-3a67c567-e297-47eb-853c-1e9299a40211')\"\n",
              "            title=\"Suggest charts\"\n",
              "            style=\"display:none;\">\n",
              "\n",
              "<svg xmlns=\"http://www.w3.org/2000/svg\" height=\"24px\"viewBox=\"0 0 24 24\"\n",
              "     width=\"24px\">\n",
              "    <g>\n",
              "        <path d=\"M19 3H5c-1.1 0-2 .9-2 2v14c0 1.1.9 2 2 2h14c1.1 0 2-.9 2-2V5c0-1.1-.9-2-2-2zM9 17H7v-7h2v7zm4 0h-2V7h2v10zm4 0h-2v-4h2v4z\"/>\n",
              "    </g>\n",
              "</svg>\n",
              "  </button>\n",
              "\n",
              "<style>\n",
              "  .colab-df-quickchart {\n",
              "      --bg-color: #E8F0FE;\n",
              "      --fill-color: #1967D2;\n",
              "      --hover-bg-color: #E2EBFA;\n",
              "      --hover-fill-color: #174EA6;\n",
              "      --disabled-fill-color: #AAA;\n",
              "      --disabled-bg-color: #DDD;\n",
              "  }\n",
              "\n",
              "  [theme=dark] .colab-df-quickchart {\n",
              "      --bg-color: #3B4455;\n",
              "      --fill-color: #D2E3FC;\n",
              "      --hover-bg-color: #434B5C;\n",
              "      --hover-fill-color: #FFFFFF;\n",
              "      --disabled-bg-color: #3B4455;\n",
              "      --disabled-fill-color: #666;\n",
              "  }\n",
              "\n",
              "  .colab-df-quickchart {\n",
              "    background-color: var(--bg-color);\n",
              "    border: none;\n",
              "    border-radius: 50%;\n",
              "    cursor: pointer;\n",
              "    display: none;\n",
              "    fill: var(--fill-color);\n",
              "    height: 32px;\n",
              "    padding: 0;\n",
              "    width: 32px;\n",
              "  }\n",
              "\n",
              "  .colab-df-quickchart:hover {\n",
              "    background-color: var(--hover-bg-color);\n",
              "    box-shadow: 0 1px 2px rgba(60, 64, 67, 0.3), 0 1px 3px 1px rgba(60, 64, 67, 0.15);\n",
              "    fill: var(--button-hover-fill-color);\n",
              "  }\n",
              "\n",
              "  .colab-df-quickchart-complete:disabled,\n",
              "  .colab-df-quickchart-complete:disabled:hover {\n",
              "    background-color: var(--disabled-bg-color);\n",
              "    fill: var(--disabled-fill-color);\n",
              "    box-shadow: none;\n",
              "  }\n",
              "\n",
              "  .colab-df-spinner {\n",
              "    border: 2px solid var(--fill-color);\n",
              "    border-color: transparent;\n",
              "    border-bottom-color: var(--fill-color);\n",
              "    animation:\n",
              "      spin 1s steps(1) infinite;\n",
              "  }\n",
              "\n",
              "  @keyframes spin {\n",
              "    0% {\n",
              "      border-color: transparent;\n",
              "      border-bottom-color: var(--fill-color);\n",
              "      border-left-color: var(--fill-color);\n",
              "    }\n",
              "    20% {\n",
              "      border-color: transparent;\n",
              "      border-left-color: var(--fill-color);\n",
              "      border-top-color: var(--fill-color);\n",
              "    }\n",
              "    30% {\n",
              "      border-color: transparent;\n",
              "      border-left-color: var(--fill-color);\n",
              "      border-top-color: var(--fill-color);\n",
              "      border-right-color: var(--fill-color);\n",
              "    }\n",
              "    40% {\n",
              "      border-color: transparent;\n",
              "      border-right-color: var(--fill-color);\n",
              "      border-top-color: var(--fill-color);\n",
              "    }\n",
              "    60% {\n",
              "      border-color: transparent;\n",
              "      border-right-color: var(--fill-color);\n",
              "    }\n",
              "    80% {\n",
              "      border-color: transparent;\n",
              "      border-right-color: var(--fill-color);\n",
              "      border-bottom-color: var(--fill-color);\n",
              "    }\n",
              "    90% {\n",
              "      border-color: transparent;\n",
              "      border-bottom-color: var(--fill-color);\n",
              "    }\n",
              "  }\n",
              "</style>\n",
              "\n",
              "  <script>\n",
              "    async function quickchart(key) {\n",
              "      const quickchartButtonEl =\n",
              "        document.querySelector('#' + key + ' button');\n",
              "      quickchartButtonEl.disabled = true;  // To prevent multiple clicks.\n",
              "      quickchartButtonEl.classList.add('colab-df-spinner');\n",
              "      try {\n",
              "        const charts = await google.colab.kernel.invokeFunction(\n",
              "            'suggestCharts', [key], {});\n",
              "      } catch (error) {\n",
              "        console.error('Error during call to suggestCharts:', error);\n",
              "      }\n",
              "      quickchartButtonEl.classList.remove('colab-df-spinner');\n",
              "      quickchartButtonEl.classList.add('colab-df-quickchart-complete');\n",
              "    }\n",
              "    (() => {\n",
              "      let quickchartButtonEl =\n",
              "        document.querySelector('#df-3a67c567-e297-47eb-853c-1e9299a40211 button');\n",
              "      quickchartButtonEl.style.display =\n",
              "        google.colab.kernel.accessAllowed ? 'block' : 'none';\n",
              "    })();\n",
              "  </script>\n",
              "</div>\n",
              "\n",
              "    </div>\n",
              "  </div>\n"
            ],
            "application/vnd.google.colaboratory.intrinsic+json": {
              "type": "dataframe",
              "variable_name": "full_data_encoded"
            }
          },
          "metadata": {},
          "execution_count": 11
        }
      ],
      "source": [
        "# encode the categorical data\n",
        "from sklearn.preprocessing import LabelEncoder\n",
        "le = LabelEncoder()\n",
        "\n",
        "def clean_labels_encoder(list_of_labels, df):\n",
        "    for label in list_of_labels:\n",
        "        df[label] = le.fit_transform(df[label])\n",
        "    return df\n",
        "\n",
        "# clean the labels\n",
        "list_of_labels = ['CARRIER_NAME', 'DEP_TIME_BLK', 'DEPARTING_AIRPORT']\n",
        "full_data_encoded = clean_labels_encoder(list_of_labels, full_data)\n",
        "\n",
        "# show head of the dataset\n",
        "full_data_encoded.head()"
      ]
    },
    {
      "cell_type": "code",
      "execution_count": null,
      "metadata": {
        "id": "dwhsqsbr7qgx"
      },
      "outputs": [],
      "source": [
        "x = full_data_encoded[[\"MONTH\",\"DAY_OF_WEEK\",\"DISTANCE_GROUP\",\"AVG_MONTHLY_PASS_AIRLINE\",\"AIRPORT_FLIGHTS_MONTH\",\"AIRLINE_FLIGHTS_MONTH\",\"PLANE_AGE\",\"GROUND_SERV_PER_PASS\",\"PRCP\",\"SNOW\",\"SNWD\",\"TMAX\",\"AWND\",\"DEP_TIME_BLK\",\"CARRIER_NAME\",\"DEPARTING_AIRPORT\",\"CONCURRENT_FLIGHTS\",\"NUMBER_OF_SEATS\",\"FLT_ATTENDANTS_PER_PASS\"]]\n",
        "y = full_data_encoded[\"DEP_DEL15\"]"
      ]
    },
    {
      "cell_type": "code",
      "execution_count": null,
      "metadata": {
        "id": "idAGo8_395BH"
      },
      "outputs": [],
      "source": [
        "X_train, X_test, y_train, y_test = train_test_split(x, y, test_size = 0.20, random_state = 0)\n",
        "#sc = StandardScaler()\n",
        "#X_train = sc.fit_transform(X_train)\n",
        "#X_test = sc.transform(X_test)"
      ]
    },
    {
      "cell_type": "code",
      "source": [
        "X_train_df = pd.DataFrame(X_train)\n",
        "X_train_df.head()"
      ],
      "metadata": {
        "id": "DysWzrcqwRZ-",
        "colab": {
          "base_uri": "https://localhost:8080/",
          "height": 226
        },
        "outputId": "a47ca12c-6116-42f6-e3c6-d19a6eb031fb"
      },
      "execution_count": null,
      "outputs": [
        {
          "output_type": "execute_result",
          "data": {
            "text/plain": [
              "         MONTH  DAY_OF_WEEK  DISTANCE_GROUP  AVG_MONTHLY_PASS_AIRLINE  \\\n",
              "3340566      7            3               2                  13382999   \n",
              "201780       1            4               2                   1204766   \n",
              "1179234      3            5               3                    473794   \n",
              "4760524      9            6               3                  12460183   \n",
              "5885136     11            7               1                  12460183   \n",
              "\n",
              "         AIRPORT_FLIGHTS_MONTH  AIRLINE_FLIGHTS_MONTH  PLANE_AGE  \\\n",
              "3340566                   3445                 117728         16   \n",
              "201780                   13375                  23760         17   \n",
              "1179234                  27137                  12510         18   \n",
              "4760524                  31713                  81338         26   \n",
              "5885136                  13199                  79989          3   \n",
              "\n",
              "         GROUND_SERV_PER_PASS  PRCP  SNOW  SNWD  TMAX   AWND  DEP_TIME_BLK  \\\n",
              "3340566              0.000099  0.00   0.0   0.0  75.0   7.38             7   \n",
              "201780               0.000107  0.00   0.0   0.0  35.0  22.82             7   \n",
              "1179234              0.000200  0.00   0.0   0.0  34.0   5.82             7   \n",
              "4760524              0.000149  0.00   0.0   0.0  87.0   9.84            11   \n",
              "5885136              0.000149  0.02   0.0   0.0  47.0  10.74            17   \n",
              "\n",
              "         CARRIER_NAME  DEPARTING_AIRPORT  CONCURRENT_FLIGHTS  NUMBER_OF_SEATS  \\\n",
              "3340566            14                 56                   8              143   \n",
              "201780              3                 37                  30               44   \n",
              "1179234             4                 11                  57               50   \n",
              "4760524             6                  4                  41              157   \n",
              "5885136             6                 17                  23              180   \n",
              "\n",
              "         FLT_ATTENDANTS_PER_PASS  \n",
              "3340566                 0.000062  \n",
              "201780                  0.000348  \n",
              "1179234                 0.000000  \n",
              "4760524                 0.000144  \n",
              "5885136                 0.000144  "
            ],
            "text/html": [
              "\n",
              "  <div id=\"df-9133fb0c-e6a3-4c62-a020-0d5dde035a3c\" class=\"colab-df-container\">\n",
              "    <div>\n",
              "<style scoped>\n",
              "    .dataframe tbody tr th:only-of-type {\n",
              "        vertical-align: middle;\n",
              "    }\n",
              "\n",
              "    .dataframe tbody tr th {\n",
              "        vertical-align: top;\n",
              "    }\n",
              "\n",
              "    .dataframe thead th {\n",
              "        text-align: right;\n",
              "    }\n",
              "</style>\n",
              "<table border=\"1\" class=\"dataframe\">\n",
              "  <thead>\n",
              "    <tr style=\"text-align: right;\">\n",
              "      <th></th>\n",
              "      <th>MONTH</th>\n",
              "      <th>DAY_OF_WEEK</th>\n",
              "      <th>DISTANCE_GROUP</th>\n",
              "      <th>AVG_MONTHLY_PASS_AIRLINE</th>\n",
              "      <th>AIRPORT_FLIGHTS_MONTH</th>\n",
              "      <th>AIRLINE_FLIGHTS_MONTH</th>\n",
              "      <th>PLANE_AGE</th>\n",
              "      <th>GROUND_SERV_PER_PASS</th>\n",
              "      <th>PRCP</th>\n",
              "      <th>SNOW</th>\n",
              "      <th>SNWD</th>\n",
              "      <th>TMAX</th>\n",
              "      <th>AWND</th>\n",
              "      <th>DEP_TIME_BLK</th>\n",
              "      <th>CARRIER_NAME</th>\n",
              "      <th>DEPARTING_AIRPORT</th>\n",
              "      <th>CONCURRENT_FLIGHTS</th>\n",
              "      <th>NUMBER_OF_SEATS</th>\n",
              "      <th>FLT_ATTENDANTS_PER_PASS</th>\n",
              "    </tr>\n",
              "  </thead>\n",
              "  <tbody>\n",
              "    <tr>\n",
              "      <th>3340566</th>\n",
              "      <td>7</td>\n",
              "      <td>3</td>\n",
              "      <td>2</td>\n",
              "      <td>13382999</td>\n",
              "      <td>3445</td>\n",
              "      <td>117728</td>\n",
              "      <td>16</td>\n",
              "      <td>0.000099</td>\n",
              "      <td>0.00</td>\n",
              "      <td>0.0</td>\n",
              "      <td>0.0</td>\n",
              "      <td>75.0</td>\n",
              "      <td>7.38</td>\n",
              "      <td>7</td>\n",
              "      <td>14</td>\n",
              "      <td>56</td>\n",
              "      <td>8</td>\n",
              "      <td>143</td>\n",
              "      <td>0.000062</td>\n",
              "    </tr>\n",
              "    <tr>\n",
              "      <th>201780</th>\n",
              "      <td>1</td>\n",
              "      <td>4</td>\n",
              "      <td>2</td>\n",
              "      <td>1204766</td>\n",
              "      <td>13375</td>\n",
              "      <td>23760</td>\n",
              "      <td>17</td>\n",
              "      <td>0.000107</td>\n",
              "      <td>0.00</td>\n",
              "      <td>0.0</td>\n",
              "      <td>0.0</td>\n",
              "      <td>35.0</td>\n",
              "      <td>22.82</td>\n",
              "      <td>7</td>\n",
              "      <td>3</td>\n",
              "      <td>37</td>\n",
              "      <td>30</td>\n",
              "      <td>44</td>\n",
              "      <td>0.000348</td>\n",
              "    </tr>\n",
              "    <tr>\n",
              "      <th>1179234</th>\n",
              "      <td>3</td>\n",
              "      <td>5</td>\n",
              "      <td>3</td>\n",
              "      <td>473794</td>\n",
              "      <td>27137</td>\n",
              "      <td>12510</td>\n",
              "      <td>18</td>\n",
              "      <td>0.000200</td>\n",
              "      <td>0.00</td>\n",
              "      <td>0.0</td>\n",
              "      <td>0.0</td>\n",
              "      <td>34.0</td>\n",
              "      <td>5.82</td>\n",
              "      <td>7</td>\n",
              "      <td>4</td>\n",
              "      <td>11</td>\n",
              "      <td>57</td>\n",
              "      <td>50</td>\n",
              "      <td>0.000000</td>\n",
              "    </tr>\n",
              "    <tr>\n",
              "      <th>4760524</th>\n",
              "      <td>9</td>\n",
              "      <td>6</td>\n",
              "      <td>3</td>\n",
              "      <td>12460183</td>\n",
              "      <td>31713</td>\n",
              "      <td>81338</td>\n",
              "      <td>26</td>\n",
              "      <td>0.000149</td>\n",
              "      <td>0.00</td>\n",
              "      <td>0.0</td>\n",
              "      <td>0.0</td>\n",
              "      <td>87.0</td>\n",
              "      <td>9.84</td>\n",
              "      <td>11</td>\n",
              "      <td>6</td>\n",
              "      <td>4</td>\n",
              "      <td>41</td>\n",
              "      <td>157</td>\n",
              "      <td>0.000144</td>\n",
              "    </tr>\n",
              "    <tr>\n",
              "      <th>5885136</th>\n",
              "      <td>11</td>\n",
              "      <td>7</td>\n",
              "      <td>1</td>\n",
              "      <td>12460183</td>\n",
              "      <td>13199</td>\n",
              "      <td>79989</td>\n",
              "      <td>3</td>\n",
              "      <td>0.000149</td>\n",
              "      <td>0.02</td>\n",
              "      <td>0.0</td>\n",
              "      <td>0.0</td>\n",
              "      <td>47.0</td>\n",
              "      <td>10.74</td>\n",
              "      <td>17</td>\n",
              "      <td>6</td>\n",
              "      <td>17</td>\n",
              "      <td>23</td>\n",
              "      <td>180</td>\n",
              "      <td>0.000144</td>\n",
              "    </tr>\n",
              "  </tbody>\n",
              "</table>\n",
              "</div>\n",
              "    <div class=\"colab-df-buttons\">\n",
              "\n",
              "  <div class=\"colab-df-container\">\n",
              "    <button class=\"colab-df-convert\" onclick=\"convertToInteractive('df-9133fb0c-e6a3-4c62-a020-0d5dde035a3c')\"\n",
              "            title=\"Convert this dataframe to an interactive table.\"\n",
              "            style=\"display:none;\">\n",
              "\n",
              "  <svg xmlns=\"http://www.w3.org/2000/svg\" height=\"24px\" viewBox=\"0 -960 960 960\">\n",
              "    <path d=\"M120-120v-720h720v720H120Zm60-500h600v-160H180v160Zm220 220h160v-160H400v160Zm0 220h160v-160H400v160ZM180-400h160v-160H180v160Zm440 0h160v-160H620v160ZM180-180h160v-160H180v160Zm440 0h160v-160H620v160Z\"/>\n",
              "  </svg>\n",
              "    </button>\n",
              "\n",
              "  <style>\n",
              "    .colab-df-container {\n",
              "      display:flex;\n",
              "      gap: 12px;\n",
              "    }\n",
              "\n",
              "    .colab-df-convert {\n",
              "      background-color: #E8F0FE;\n",
              "      border: none;\n",
              "      border-radius: 50%;\n",
              "      cursor: pointer;\n",
              "      display: none;\n",
              "      fill: #1967D2;\n",
              "      height: 32px;\n",
              "      padding: 0 0 0 0;\n",
              "      width: 32px;\n",
              "    }\n",
              "\n",
              "    .colab-df-convert:hover {\n",
              "      background-color: #E2EBFA;\n",
              "      box-shadow: 0px 1px 2px rgba(60, 64, 67, 0.3), 0px 1px 3px 1px rgba(60, 64, 67, 0.15);\n",
              "      fill: #174EA6;\n",
              "    }\n",
              "\n",
              "    .colab-df-buttons div {\n",
              "      margin-bottom: 4px;\n",
              "    }\n",
              "\n",
              "    [theme=dark] .colab-df-convert {\n",
              "      background-color: #3B4455;\n",
              "      fill: #D2E3FC;\n",
              "    }\n",
              "\n",
              "    [theme=dark] .colab-df-convert:hover {\n",
              "      background-color: #434B5C;\n",
              "      box-shadow: 0px 1px 3px 1px rgba(0, 0, 0, 0.15);\n",
              "      filter: drop-shadow(0px 1px 2px rgba(0, 0, 0, 0.3));\n",
              "      fill: #FFFFFF;\n",
              "    }\n",
              "  </style>\n",
              "\n",
              "    <script>\n",
              "      const buttonEl =\n",
              "        document.querySelector('#df-9133fb0c-e6a3-4c62-a020-0d5dde035a3c button.colab-df-convert');\n",
              "      buttonEl.style.display =\n",
              "        google.colab.kernel.accessAllowed ? 'block' : 'none';\n",
              "\n",
              "      async function convertToInteractive(key) {\n",
              "        const element = document.querySelector('#df-9133fb0c-e6a3-4c62-a020-0d5dde035a3c');\n",
              "        const dataTable =\n",
              "          await google.colab.kernel.invokeFunction('convertToInteractive',\n",
              "                                                    [key], {});\n",
              "        if (!dataTable) return;\n",
              "\n",
              "        const docLinkHtml = 'Like what you see? Visit the ' +\n",
              "          '<a target=\"_blank\" href=https://colab.research.google.com/notebooks/data_table.ipynb>data table notebook</a>'\n",
              "          + ' to learn more about interactive tables.';\n",
              "        element.innerHTML = '';\n",
              "        dataTable['output_type'] = 'display_data';\n",
              "        await google.colab.output.renderOutput(dataTable, element);\n",
              "        const docLink = document.createElement('div');\n",
              "        docLink.innerHTML = docLinkHtml;\n",
              "        element.appendChild(docLink);\n",
              "      }\n",
              "    </script>\n",
              "  </div>\n",
              "\n",
              "\n",
              "<div id=\"df-baa8d01f-03f6-4d02-9179-bac398973a94\">\n",
              "  <button class=\"colab-df-quickchart\" onclick=\"quickchart('df-baa8d01f-03f6-4d02-9179-bac398973a94')\"\n",
              "            title=\"Suggest charts\"\n",
              "            style=\"display:none;\">\n",
              "\n",
              "<svg xmlns=\"http://www.w3.org/2000/svg\" height=\"24px\"viewBox=\"0 0 24 24\"\n",
              "     width=\"24px\">\n",
              "    <g>\n",
              "        <path d=\"M19 3H5c-1.1 0-2 .9-2 2v14c0 1.1.9 2 2 2h14c1.1 0 2-.9 2-2V5c0-1.1-.9-2-2-2zM9 17H7v-7h2v7zm4 0h-2V7h2v10zm4 0h-2v-4h2v4z\"/>\n",
              "    </g>\n",
              "</svg>\n",
              "  </button>\n",
              "\n",
              "<style>\n",
              "  .colab-df-quickchart {\n",
              "      --bg-color: #E8F0FE;\n",
              "      --fill-color: #1967D2;\n",
              "      --hover-bg-color: #E2EBFA;\n",
              "      --hover-fill-color: #174EA6;\n",
              "      --disabled-fill-color: #AAA;\n",
              "      --disabled-bg-color: #DDD;\n",
              "  }\n",
              "\n",
              "  [theme=dark] .colab-df-quickchart {\n",
              "      --bg-color: #3B4455;\n",
              "      --fill-color: #D2E3FC;\n",
              "      --hover-bg-color: #434B5C;\n",
              "      --hover-fill-color: #FFFFFF;\n",
              "      --disabled-bg-color: #3B4455;\n",
              "      --disabled-fill-color: #666;\n",
              "  }\n",
              "\n",
              "  .colab-df-quickchart {\n",
              "    background-color: var(--bg-color);\n",
              "    border: none;\n",
              "    border-radius: 50%;\n",
              "    cursor: pointer;\n",
              "    display: none;\n",
              "    fill: var(--fill-color);\n",
              "    height: 32px;\n",
              "    padding: 0;\n",
              "    width: 32px;\n",
              "  }\n",
              "\n",
              "  .colab-df-quickchart:hover {\n",
              "    background-color: var(--hover-bg-color);\n",
              "    box-shadow: 0 1px 2px rgba(60, 64, 67, 0.3), 0 1px 3px 1px rgba(60, 64, 67, 0.15);\n",
              "    fill: var(--button-hover-fill-color);\n",
              "  }\n",
              "\n",
              "  .colab-df-quickchart-complete:disabled,\n",
              "  .colab-df-quickchart-complete:disabled:hover {\n",
              "    background-color: var(--disabled-bg-color);\n",
              "    fill: var(--disabled-fill-color);\n",
              "    box-shadow: none;\n",
              "  }\n",
              "\n",
              "  .colab-df-spinner {\n",
              "    border: 2px solid var(--fill-color);\n",
              "    border-color: transparent;\n",
              "    border-bottom-color: var(--fill-color);\n",
              "    animation:\n",
              "      spin 1s steps(1) infinite;\n",
              "  }\n",
              "\n",
              "  @keyframes spin {\n",
              "    0% {\n",
              "      border-color: transparent;\n",
              "      border-bottom-color: var(--fill-color);\n",
              "      border-left-color: var(--fill-color);\n",
              "    }\n",
              "    20% {\n",
              "      border-color: transparent;\n",
              "      border-left-color: var(--fill-color);\n",
              "      border-top-color: var(--fill-color);\n",
              "    }\n",
              "    30% {\n",
              "      border-color: transparent;\n",
              "      border-left-color: var(--fill-color);\n",
              "      border-top-color: var(--fill-color);\n",
              "      border-right-color: var(--fill-color);\n",
              "    }\n",
              "    40% {\n",
              "      border-color: transparent;\n",
              "      border-right-color: var(--fill-color);\n",
              "      border-top-color: var(--fill-color);\n",
              "    }\n",
              "    60% {\n",
              "      border-color: transparent;\n",
              "      border-right-color: var(--fill-color);\n",
              "    }\n",
              "    80% {\n",
              "      border-color: transparent;\n",
              "      border-right-color: var(--fill-color);\n",
              "      border-bottom-color: var(--fill-color);\n",
              "    }\n",
              "    90% {\n",
              "      border-color: transparent;\n",
              "      border-bottom-color: var(--fill-color);\n",
              "    }\n",
              "  }\n",
              "</style>\n",
              "\n",
              "  <script>\n",
              "    async function quickchart(key) {\n",
              "      const quickchartButtonEl =\n",
              "        document.querySelector('#' + key + ' button');\n",
              "      quickchartButtonEl.disabled = true;  // To prevent multiple clicks.\n",
              "      quickchartButtonEl.classList.add('colab-df-spinner');\n",
              "      try {\n",
              "        const charts = await google.colab.kernel.invokeFunction(\n",
              "            'suggestCharts', [key], {});\n",
              "      } catch (error) {\n",
              "        console.error('Error during call to suggestCharts:', error);\n",
              "      }\n",
              "      quickchartButtonEl.classList.remove('colab-df-spinner');\n",
              "      quickchartButtonEl.classList.add('colab-df-quickchart-complete');\n",
              "    }\n",
              "    (() => {\n",
              "      let quickchartButtonEl =\n",
              "        document.querySelector('#df-baa8d01f-03f6-4d02-9179-bac398973a94 button');\n",
              "      quickchartButtonEl.style.display =\n",
              "        google.colab.kernel.accessAllowed ? 'block' : 'none';\n",
              "    })();\n",
              "  </script>\n",
              "</div>\n",
              "\n",
              "    </div>\n",
              "  </div>\n"
            ],
            "application/vnd.google.colaboratory.intrinsic+json": {
              "type": "dataframe",
              "variable_name": "X_train_df"
            }
          },
          "metadata": {},
          "execution_count": 15
        }
      ]
    },
    {
      "cell_type": "markdown",
      "metadata": {
        "id": "vCLD_Z1rH-q2"
      },
      "source": [
        "# Logistic Regression"
      ]
    },
    {
      "cell_type": "code",
      "source": [
        "'''rus = RandomUnderSampler(random_state=42)\n",
        "X_resampled, y_resampled = rus.fit_resample(X_train, y_train)\n",
        "\n",
        "logreg = LogisticRegression()\n",
        "logreg.fit(X_resampled, y_resampled)\n",
        "\n",
        "y_pred = logreg.predict(X_test)\n",
        "\n",
        "print(\"Accuracy:\", accuracy_score(y_test, y_pred))\n",
        "print(classification_report(y_test, y_pred))'''"
      ],
      "metadata": {
        "colab": {
          "base_uri": "https://localhost:8080/"
        },
        "id": "IcLTvTdyIULV",
        "outputId": "43720317-ec7c-416b-d0cf-58a35f55588f"
      },
      "execution_count": null,
      "outputs": [
        {
          "output_type": "stream",
          "name": "stdout",
          "text": [
            "Accuracy: 0.5284362110483275\n",
            "              precision    recall  f1-score   support\n",
            "\n",
            "           0       0.81      0.54      0.65    169492\n",
            "           1       0.20      0.48      0.28     40223\n",
            "\n",
            "    accuracy                           0.53    209715\n",
            "   macro avg       0.51      0.51      0.46    209715\n",
            "weighted avg       0.70      0.53      0.58    209715\n",
            "\n"
          ]
        }
      ]
    },
    {
      "cell_type": "code",
      "source": [
        "'''smote = SMOTE(random_state=42)\n",
        "X_resampled, y_resampled = smote.fit_resample(X_train, y_train)\n",
        "\n",
        "logreg = LogisticRegression()\n",
        "logreg.fit(X_resampled, y_resampled)\n",
        "\n",
        "y_pred = logreg.predict(X_test)\n",
        "\n",
        "print(\"Accuracy:\", accuracy_score(y_test, y_pred))\n",
        "print(classification_report(y_test, y_pred))'''\n"
      ],
      "metadata": {
        "colab": {
          "base_uri": "https://localhost:8080/"
        },
        "id": "ks1zuDQ8FozG",
        "outputId": "c865634a-6490-4767-e766-9e8bc1b50264"
      },
      "execution_count": null,
      "outputs": [
        {
          "output_type": "stream",
          "name": "stdout",
          "text": [
            "Accuracy: 0.5171923801349451\n",
            "              precision    recall  f1-score   support\n",
            "\n",
            "           0       0.82      0.52      0.64    169492\n",
            "           1       0.20      0.50      0.29     40223\n",
            "\n",
            "    accuracy                           0.52    209715\n",
            "   macro avg       0.51      0.51      0.46    209715\n",
            "weighted avg       0.70      0.52      0.57    209715\n",
            "\n"
          ]
        }
      ]
    },
    {
      "cell_type": "code",
      "source": [
        "'''smote_enn = SMOTEENN(random_state=42)\n",
        "X_resampled, y_resampled = smote_enn.fit_resample(X_train, y_train)\n",
        "\n",
        "logreg = LogisticRegression()\n",
        "logreg.fit(X_resampled, y_resampled)\n",
        "\n",
        "y_pred = logreg.predict(X_test)\n",
        "\n",
        "print(\"Accuracy:\", accuracy_score(y_test, y_pred))\n",
        "print(classification_report(y_test, y_pred))'''"
      ],
      "metadata": {
        "id": "jCPq98kQIdHx"
      },
      "execution_count": null,
      "outputs": []
    },
    {
      "cell_type": "code",
      "source": [
        "from imblearn.over_sampling import RSMOTE\n",
        "rsmote = RSMOTE(random_state=42)\n",
        "X_resampled, y_resampled = rsmote.fit_resample(X_train, y_train)\n",
        "\n",
        "logreg = LogisticRegression()\n",
        "logreg.fit(X_resampled, y_resampled)\n",
        "\n",
        "y_pred = logreg.predict(X_test)\n",
        "\n",
        "print(\"Accuracy:\", accuracy_score(y_test, y_pred))\n",
        "print(classification_report(y_test, y_pred))"
      ],
      "metadata": {
        "id": "5YQTKVykJzK9"
      },
      "execution_count": null,
      "outputs": []
    },
    {
      "cell_type": "code",
      "execution_count": null,
      "metadata": {
        "id": "M-7Hdt0dMU0E"
      },
      "outputs": [],
      "source": [
        "model = LogisticRegression()\n",
        "model.fit(X_train, y_train)"
      ]
    },
    {
      "cell_type": "code",
      "execution_count": null,
      "metadata": {
        "id": "bjTxrUdHAPTg"
      },
      "outputs": [],
      "source": [
        "pred = model.predict(X_test)\n",
        "accuracy = accuracy_score(y_test, pred)\n",
        "print(\"Accuracy:\", accuracy*100)"
      ]
    },
    {
      "cell_type": "code",
      "source": [
        "f1 = f1_score(y_test, pred)\n",
        "print(\"F1 Score:\", f1)"
      ],
      "metadata": {
        "id": "27yNjLrkTL17"
      },
      "execution_count": null,
      "outputs": []
    },
    {
      "cell_type": "code",
      "source": [
        "auc_roc = roc_auc_score(y_test, pred)\n",
        "print(\"ROC:\", auc_roc)"
      ],
      "metadata": {
        "id": "H1ke4Q4OXCEh"
      },
      "execution_count": null,
      "outputs": []
    },
    {
      "cell_type": "markdown",
      "source": [
        "## Weighted Logistic Regression"
      ],
      "metadata": {
        "id": "Z1ywax7WM_64"
      }
    },
    {
      "cell_type": "code",
      "source": [
        "# Fit a weighted logistic regression model\n",
        "weights = {0: 19, 1: 81}  # Weight 81 for class 1 (minority class)\n",
        "weighted_lr_model = LogisticRegression(random_state=42, class_weight=weights)\n",
        "weighted_lr_model.fit(X_train, y_train)\n",
        "\n",
        "# Make predictions with the weighted model\n",
        "y_pred_weighted_lr = weighted_lr_model.predict(X_test)\n",
        "\n",
        "# Evaluate the weighted model\n",
        "print(\"Weighted Logistic Regression:\")\n",
        "print(classification_report(y_test, y_pred_weighted_lr))"
      ],
      "metadata": {
        "colab": {
          "base_uri": "https://localhost:8080/"
        },
        "id": "rp2W1iMbNGId",
        "outputId": "fb4d4dd5-7f90-4346-f2bc-40f813b5943c"
      },
      "execution_count": null,
      "outputs": [
        {
          "output_type": "stream",
          "name": "stdout",
          "text": [
            "Weighted Logistic Regression:\n"
          ]
        },
        {
          "output_type": "stream",
          "name": "stderr",
          "text": [
            "/usr/local/lib/python3.10/dist-packages/sklearn/metrics/_classification.py:1344: UndefinedMetricWarning: Precision and F-score are ill-defined and being set to 0.0 in labels with no predicted samples. Use `zero_division` parameter to control this behavior.\n",
            "  _warn_prf(average, modifier, msg_start, len(result))\n",
            "/usr/local/lib/python3.10/dist-packages/sklearn/metrics/_classification.py:1344: UndefinedMetricWarning: Precision and F-score are ill-defined and being set to 0.0 in labels with no predicted samples. Use `zero_division` parameter to control this behavior.\n",
            "  _warn_prf(average, modifier, msg_start, len(result))\n"
          ]
        },
        {
          "output_type": "stream",
          "name": "stdout",
          "text": [
            "              precision    recall  f1-score   support\n",
            "\n",
            "           0       0.81      1.00      0.90   1052178\n",
            "           1       0.00      0.00      0.00    245635\n",
            "\n",
            "    accuracy                           0.81   1297813\n",
            "   macro avg       0.41      0.50      0.45   1297813\n",
            "weighted avg       0.66      0.81      0.73   1297813\n",
            "\n"
          ]
        },
        {
          "output_type": "stream",
          "name": "stderr",
          "text": [
            "/usr/local/lib/python3.10/dist-packages/sklearn/metrics/_classification.py:1344: UndefinedMetricWarning: Precision and F-score are ill-defined and being set to 0.0 in labels with no predicted samples. Use `zero_division` parameter to control this behavior.\n",
            "  _warn_prf(average, modifier, msg_start, len(result))\n"
          ]
        }
      ]
    },
    {
      "cell_type": "code",
      "source": [
        "#performance metrics for weighted logistic regression\n",
        "accuracy_weighted_lr = accuracy_score(y_test, y_pred_weighted_lr)\n",
        "print(\"Accuracy:\", accuracy_weighted_lr*100)\n",
        "f1_weighted_lr = f1_score(y_test, y_pred_weighted_lr)\n",
        "print(\"F1 Score:\", f1_weighted_lr)\n",
        "auc_roc_weighted_lr = roc_auc_score(y_test, y_pred_weighted_lr)\n",
        "print(\"ROC:\", auc_roc_weighted_lr)"
      ],
      "metadata": {
        "colab": {
          "base_uri": "https://localhost:8080/"
        },
        "id": "8vXnkNRXbA4F",
        "outputId": "d4c465a8-7786-40c8-bac7-04fa7155317a"
      },
      "execution_count": null,
      "outputs": [
        {
          "output_type": "stream",
          "name": "stdout",
          "text": [
            "Accuracy: 81.07315923018186\n",
            "F1 Score: 0.0\n",
            "ROC: 0.5\n"
          ]
        }
      ]
    },
    {
      "cell_type": "markdown",
      "metadata": {
        "id": "nZiv_hVNY_1V"
      },
      "source": [
        "# KNN Algorithm"
      ]
    },
    {
      "cell_type": "code",
      "source": [
        "'''from sklearn.model_selection import GridSearchCV, train_test_split\n",
        "from sklearn.neighbors import KNeighborsClassifier\n",
        "from sklearn.metrics import make_scorer, accuracy_score, f1_score, roc_auc_score\n",
        "\n",
        "classifier = KNeighborsClassifier()\n",
        "\n",
        "param_grid = {\n",
        "    'n_neighbors': [3, 5, 7, 9],\n",
        "    'weights': ['uniform', 'distance'],\n",
        "    'metric': ['euclidean', 'manhattan', 'minkowski']\n",
        "}\n",
        "\n",
        "scorers = {\n",
        "    'accuracy': make_scorer(accuracy_score),\n",
        "    'f1_score': make_scorer(f1_score),\n",
        "    'roc_auc_score': make_scorer(roc_auc_score)\n",
        "}\n",
        "\n",
        "grid_search = GridSearchCV(estimator=classifier, param_grid=param_grid, cv=5, scoring=scorers, refit=False)\n",
        "grid_search.fit(X_train, y_train)\n",
        "\n",
        "best_params_accuracy = grid_search.cv_results_['params'][grid_search.cv_results_['rank_test_accuracy'] == 1][0]\n",
        "best_params_f1_score = grid_search.cv_results_['params'][grid_search.cv_results_['rank_test_f1_score'] == 1][0]\n",
        "best_params_roc_auc_score = grid_search.cv_results_['params'][grid_search.cv_results_['rank_test_roc_auc_score'] == 1][0]\n",
        "\n",
        "print(\"Best parameters for accuracy:\", best_params_accuracy)\n",
        "print(\"Best parameters for F1 score:\", best_params_f1_score)\n",
        "print(\"Best parameters for ROC AUC score:\", best_params_roc_auc_score)'''"
      ],
      "metadata": {
        "id": "lzUgNWTqbkyj"
      },
      "execution_count": null,
      "outputs": []
    },
    {
      "cell_type": "code",
      "execution_count": null,
      "metadata": {
        "id": "rmVrgPEqZX8S"
      },
      "outputs": [],
      "source": [
        "from sklearn.neighbors import KNeighborsClassifier\n",
        "classifier = KNeighborsClassifier(n_neighbors = 5, metric = 'minkowski', p = 2)\n",
        "classifier.fit(X_train, y_train)\n",
        "\n",
        "#predicting the test set results\n",
        "y_pred = classifier.predict(X_test)\n",
        "\n",
        "#generating confusion matrix\n",
        "from sklearn.metrics import confusion_matrix, accuracy_score\n",
        "cm = confusion_matrix(y_test, y_pred)\n",
        "ac = accuracy_score(y_test, y_pred)\n",
        "\n",
        "#print accuracy score\n",
        "print(\"Accuracy with k=5\", ac*100)"
      ]
    },
    {
      "cell_type": "code",
      "source": [
        "f1 = f1_score(y_test, y_pred)\n",
        "print(\"F1 Score:\", f1)"
      ],
      "metadata": {
        "id": "NKVjz3acT8ix"
      },
      "execution_count": null,
      "outputs": []
    },
    {
      "cell_type": "code",
      "source": [
        "auc_roc = roc_auc_score(y_test, y_pred)\n",
        "print(\"ROC:\", auc_roc)"
      ],
      "metadata": {
        "id": "kv8bvkPyW686"
      },
      "execution_count": null,
      "outputs": []
    },
    {
      "cell_type": "code",
      "execution_count": null,
      "metadata": {
        "id": "J7fx6w_2ZJMM"
      },
      "outputs": [],
      "source": [
        "plt.figure(figsize = (15,5))\n",
        "plt.subplot(1,2,1)\n",
        "plt.scatter(X_test[:,0], X_test[:,1], c=y_pred, marker= '*', s=100,edgecolors='black')\n",
        "plt.title(\"Predicted values with k=5\", fontsize=20)\n",
        "\n",
        "#plt.subplot(1,2,2)\n",
        "#plt.scatter(X_test[:,0], X_test[:,1], c=y_pred_1, marker= '*', s=100,edgecolors='black')\n",
        "#plt.title(\"Predicted values with k=1\", fontsize=20)\n",
        "#plt.show()"
      ]
    },
    {
      "cell_type": "markdown",
      "metadata": {
        "id": "0WyLwgtpD9gz"
      },
      "source": [
        "# Decision Tree Classifier\n"
      ]
    },
    {
      "cell_type": "code",
      "source": [
        "'''from sklearn.model_selection import GridSearchCV, train_test_split\n",
        "from sklearn.tree import DecisionTreeClassifier\n",
        "\n",
        "model = DecisionTreeClassifier()\n",
        "\n",
        "param_grid = {\n",
        "    'random_state': range(100)\n",
        "}\n",
        "\n",
        "grid_search = GridSearchCV(estimator=model, param_grid=param_grid, cv=5, scoring='accuracy')\n",
        "grid_search.fit(X_train, y_train)\n",
        "\n",
        "best_random_state = grid_search.best_params_['random_state']\n",
        "print(\"Best Random State:\", best_random_state)'''"
      ],
      "metadata": {
        "id": "kW_Tkh1vYYI2"
      },
      "execution_count": null,
      "outputs": []
    },
    {
      "cell_type": "code",
      "execution_count": null,
      "metadata": {
        "id": "5Q9uVqXYD8bA"
      },
      "outputs": [],
      "source": [
        "from sklearn.tree import DecisionTreeClassifier # Import Decision Tree Classifier\n",
        "# Create Decision Tree classifer object\n",
        "dt = DecisionTreeClassifier(random_state = 4, criterion = 'gini')\n",
        "\n",
        "# Train Decision Tree Classifer\n",
        "dt.fit(X_train, y_train)\n",
        "\n",
        "#Predict the response for test dataset\n",
        "y_pred_dt = dt.predict(X_test)\n",
        "\n",
        "# Model Accuracy,\n",
        "print(\"Accuracy:\", accuracy_score(y_test, y_pred_dt)*100)"
      ]
    },
    {
      "cell_type": "code",
      "source": [
        "f1 = f1_score(y_test, y_pred_dt)\n",
        "print(\"F1 Score:\", f1)"
      ],
      "metadata": {
        "id": "sZTShO3yUBUz"
      },
      "execution_count": null,
      "outputs": []
    },
    {
      "cell_type": "code",
      "source": [
        "auc_roc = roc_auc_score(y_test, y_pred_dt)\n",
        "print(\"ROC:\", auc_roc)"
      ],
      "metadata": {
        "id": "g3y40Fa1XTyg"
      },
      "execution_count": null,
      "outputs": []
    },
    {
      "cell_type": "code",
      "source": [
        "# let's create a dictionary of features and their importance values\n",
        "X_train_df = pd.DataFrame(X_train)\n",
        "feat_dict= {}\n",
        "for col, val in sorted(zip(X_train_df.columns, dt.feature_importances_),key=lambda x:x[1],reverse=True):\n",
        "  feat_dict[col]=val"
      ],
      "metadata": {
        "id": "J33RmefvpucS"
      },
      "execution_count": null,
      "outputs": []
    },
    {
      "cell_type": "code",
      "source": [
        "feat_df = pd.DataFrame({'Feature':feat_dict.keys(),'Importance':feat_dict.values()})\n",
        "feat_df"
      ],
      "metadata": {
        "id": "RTjmlcY3xUYw"
      },
      "execution_count": null,
      "outputs": []
    },
    {
      "cell_type": "code",
      "source": [
        "values = feat_df.Importance\n",
        "idx = feat_df.Feature\n",
        "plt.figure(figsize=(10,8))\n",
        "clrs = ['green' if (x < max(values)) else 'red' for x in values ]\n",
        "sns.barplot(y=idx,x=values,palette=clrs).set(title='Important features to predict delayed departure')\n",
        "plt.show()"
      ],
      "metadata": {
        "id": "42xDZ_6PxdBU"
      },
      "execution_count": null,
      "outputs": []
    }
  ],
  "metadata": {
    "colab": {
      "provenance": []
    },
    "kernelspec": {
      "display_name": "Python 3",
      "name": "python3"
    },
    "language_info": {
      "name": "python"
    }
  },
  "nbformat": 4,
  "nbformat_minor": 0
}